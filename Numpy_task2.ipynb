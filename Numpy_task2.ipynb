{
  "cells": [
    {
      "cell_type": "markdown",
      "metadata": {
        "id": "TQA9I_7nLkCE"
      },
      "source": [
        "# Numpy\n",
        "\n"
      ]
    },
    {
      "cell_type": "markdown",
      "metadata": {
        "id": "mUesfSVYLkCU"
      },
      "source": [
        "#### 1. Import the numpy package under the name `np` (★☆☆) \n",
        "(**hint**: import … as …)"
      ]
    },
    {
      "cell_type": "code",
      "execution_count": 120,
      "metadata": {
        "collapsed": true,
        "id": "_uQxnEXxLkCW"
      },
      "outputs": [],
      "source": [
        "import numpy as np"
      ]
    },
    {
      "cell_type": "markdown",
      "metadata": {
        "id": "_sRBv2XnLkCc"
      },
      "source": [
        "#### 2. Print the numpy version and the configuration (★☆☆) \n",
        "(**hint**: np.\\_\\_version\\_\\_, np.show\\_config)"
      ]
    },
    {
      "cell_type": "code",
      "execution_count": null,
      "metadata": {
        "id": "p4a-ClVNLkCe",
        "colab": {
          "base_uri": "https://localhost:8080/"
        },
        "outputId": "483b01e8-400b-430e-ff8a-7c27079ee168"
      },
      "outputs": [
        {
          "output_type": "stream",
          "name": "stdout",
          "text": [
            "1.21.6\n"
          ]
        }
      ],
      "source": [
        "print(np.__version__)"
      ]
    },
    {
      "cell_type": "markdown",
      "metadata": {
        "id": "fJZbEi50LkCe"
      },
      "source": [
        "#### 3. Create a null vector of size 10 (★☆☆) \n",
        "(**hint**: np.zeros)"
      ]
    },
    {
      "cell_type": "code",
      "execution_count": null,
      "metadata": {
        "id": "IkAPBuY3LkCg",
        "colab": {
          "base_uri": "https://localhost:8080/"
        },
        "outputId": "451b6563-8db3-4018-b5e1-dd7b5c521654"
      },
      "outputs": [
        {
          "output_type": "stream",
          "name": "stdout",
          "text": [
            "[0. 0. 0. 0. 0. 0. 0. 0. 0. 0.]\n"
          ]
        }
      ],
      "source": [
        "x=np.zeros(10)   # zeros will create the \n",
        "print(x)"
      ]
    },
    {
      "cell_type": "markdown",
      "metadata": {
        "id": "T-8a799dLkCh"
      },
      "source": [
        "#### 4.  How to find the memory size of any array (★☆☆) \n",
        "(**hint**: size, itemsize)"
      ]
    },
    {
      "cell_type": "code",
      "execution_count": null,
      "metadata": {
        "id": "xeBHT5ZULkCj",
        "colab": {
          "base_uri": "https://localhost:8080/"
        },
        "outputId": "c1befe36-0886-4559-b60b-c8d4c77aac74"
      },
      "outputs": [
        {
          "output_type": "stream",
          "name": "stdout",
          "text": [
            "10\n"
          ]
        }
      ],
      "source": [
        "print(np.size(x))   # size is function it give array size"
      ]
    },
    {
      "cell_type": "markdown",
      "metadata": {
        "id": "yoOL7nWzLkCk"
      },
      "source": [
        "#### 5.  How to get the documentation of the numpy add function from the command line? (★☆☆) \n",
        "(**hint**: np.info)"
      ]
    },
    {
      "cell_type": "code",
      "execution_count": null,
      "metadata": {
        "collapsed": true,
        "id": "ysKECKaxLkCl",
        "colab": {
          "base_uri": "https://localhost:8080/"
        },
        "outputId": "aa3f1d87-a176-4c50-88a8-048589442f6d"
      },
      "outputs": [
        {
          "output_type": "stream",
          "name": "stdout",
          "text": [
            "add(x1, x2, /, out=None, *, where=True, casting='same_kind', order='K', dtype=None, subok=True[, signature, extobj])\n",
            "\n",
            "Add arguments element-wise.\n",
            "\n",
            "Parameters\n",
            "----------\n",
            "x1, x2 : array_like\n",
            "    The arrays to be added.\n",
            "    If ``x1.shape != x2.shape``, they must be broadcastable to a common\n",
            "    shape (which becomes the shape of the output).\n",
            "out : ndarray, None, or tuple of ndarray and None, optional\n",
            "    A location into which the result is stored. If provided, it must have\n",
            "    a shape that the inputs broadcast to. If not provided or None,\n",
            "    a freshly-allocated array is returned. A tuple (possible only as a\n",
            "    keyword argument) must have length equal to the number of outputs.\n",
            "where : array_like, optional\n",
            "    This condition is broadcast over the input. At locations where the\n",
            "    condition is True, the `out` array will be set to the ufunc result.\n",
            "    Elsewhere, the `out` array will retain its original value.\n",
            "    Note that if an uninitialized `out` array is created via the default\n",
            "    ``out=None``, locations within it where the condition is False will\n",
            "    remain uninitialized.\n",
            "**kwargs\n",
            "    For other keyword-only arguments, see the\n",
            "    :ref:`ufunc docs <ufuncs.kwargs>`.\n",
            "\n",
            "Returns\n",
            "-------\n",
            "add : ndarray or scalar\n",
            "    The sum of `x1` and `x2`, element-wise.\n",
            "    This is a scalar if both `x1` and `x2` are scalars.\n",
            "\n",
            "Notes\n",
            "-----\n",
            "Equivalent to `x1` + `x2` in terms of array broadcasting.\n",
            "\n",
            "Examples\n",
            "--------\n",
            ">>> np.add(1.0, 4.0)\n",
            "5.0\n",
            ">>> x1 = np.arange(9.0).reshape((3, 3))\n",
            ">>> x2 = np.arange(3.0)\n",
            ">>> np.add(x1, x2)\n",
            "array([[  0.,   2.,   4.],\n",
            "       [  3.,   5.,   7.],\n",
            "       [  6.,   8.,  10.]])\n",
            "\n",
            "The ``+`` operator can be used as a shorthand for ``np.add`` on ndarrays.\n",
            "\n",
            ">>> x1 = np.arange(9.0).reshape((3, 3))\n",
            ">>> x2 = np.arange(3.0)\n",
            ">>> x1 + x2\n",
            "array([[ 0.,  2.,  4.],\n",
            "       [ 3.,  5.,  7.],\n",
            "       [ 6.,  8., 10.]])\n",
            "Help on NoneType object:\n",
            "\n",
            "class NoneType(object)\n",
            " |  Methods defined here:\n",
            " |  \n",
            " |  __bool__(self, /)\n",
            " |      self != 0\n",
            " |  \n",
            " |  __repr__(self, /)\n",
            " |      Return repr(self).\n",
            " |  \n",
            " |  ----------------------------------------------------------------------\n",
            " |  Static methods defined here:\n",
            " |  \n",
            " |  __new__(*args, **kwargs) from builtins.type\n",
            " |      Create and return a new object.  See help(type) for accurate signature.\n",
            "\n"
          ]
        }
      ],
      "source": [
        "help(np.info(np.add))"
      ]
    },
    {
      "cell_type": "markdown",
      "metadata": {
        "id": "69XFW2l6LkCl"
      },
      "source": [
        "#### 6.  Create a null vector of size 10 but the fifth value which is 1 (★☆☆) \n",
        "(**hint**: array\\[4\\])"
      ]
    },
    {
      "cell_type": "code",
      "execution_count": null,
      "metadata": {
        "id": "y3Xqxt8kLkCm",
        "colab": {
          "base_uri": "https://localhost:8080/"
        },
        "outputId": "704ea0dc-5b29-49b8-e620-9e41c5468305"
      },
      "outputs": [
        {
          "output_type": "stream",
          "name": "stdout",
          "text": [
            "[0. 0. 0. 0. 1. 0. 0. 0. 0. 0.]\n"
          ]
        }
      ],
      "source": [
        "array=np.zeros(10)\n",
        "array[4]='1'\n",
        "print(array)"
      ]
    },
    {
      "cell_type": "markdown",
      "metadata": {
        "id": "TqCi432lLkCn"
      },
      "source": [
        "#### 7.  Create a vector with values ranging from 10 to 49 (★☆☆) \n",
        "(**hint**: np.arange)"
      ]
    },
    {
      "cell_type": "code",
      "execution_count": null,
      "metadata": {
        "id": "zwG9KaqALkCs",
        "colab": {
          "base_uri": "https://localhost:8080/"
        },
        "outputId": "61ceb562-e066-42ec-c618-8b3d14d94450"
      },
      "outputs": [
        {
          "output_type": "stream",
          "name": "stdout",
          "text": [
            "[10 11 12 13 14 15 16 17 18 19 20 21 22 23 24 25 26 27 28 29 30 31 32 33\n",
            " 34 35 36 37 38 39 40 41 42 43 44 45 46 47 48 49]\n"
          ]
        }
      ],
      "source": [
        "array=np.arange(10,50)\n",
        "print(array)"
      ]
    },
    {
      "cell_type": "markdown",
      "metadata": {
        "id": "asa8i7AgLkCs"
      },
      "source": [
        "#### 8.  Reverse a vector (first element becomes last) (★☆☆) \n",
        "(**hint**: array\\[::-1\\])"
      ]
    },
    {
      "cell_type": "code",
      "execution_count": null,
      "metadata": {
        "id": "0sVN2fCKLkCt",
        "colab": {
          "base_uri": "https://localhost:8080/"
        },
        "outputId": "b1fb4c46-0cd0-4bf1-e2bf-c94bfed218d7"
      },
      "outputs": [
        {
          "output_type": "stream",
          "name": "stdout",
          "text": [
            "[49 48 47 46 45 44 43 42 41 40 39 38 37 36 35 34 33 32 31 30 29 28 27 26\n",
            " 25 24 23 22 21 20 19 18 17 16 15 14 13 12 11 10]\n"
          ]
        }
      ],
      "source": [
        "print(array[::-1])\n",
        "\n",
        "#arrays=[1,2,3,4,6,7,8,9,10]\n",
        "#print(arrays[::-1])"
      ]
    },
    {
      "cell_type": "markdown",
      "metadata": {
        "id": "3Sw9lllGLkCt"
      },
      "source": [
        "#### 9.  Create a 3x3 matrix with values ranging from 0 to 8 (★☆☆) \n",
        "(**hint**: reshape)"
      ]
    },
    {
      "cell_type": "code",
      "execution_count": null,
      "metadata": {
        "id": "GLY0EqG4LkCu",
        "colab": {
          "base_uri": "https://localhost:8080/"
        },
        "outputId": "9182d6c2-a318-40ee-f382-08a6ae22bffd"
      },
      "outputs": [
        {
          "output_type": "stream",
          "name": "stdout",
          "text": [
            "[[0 1 2]\n",
            " [3 4 5]\n",
            " [6 7 8]]\n"
          ]
        }
      ],
      "source": [
        "array=np.arange(0,9).reshape(3,3)\n",
        "print(array)"
      ]
    },
    {
      "cell_type": "markdown",
      "metadata": {
        "id": "Sgvx-BgkLkCv"
      },
      "source": [
        "#### 10. Find indices of non-zero elements from \\[1,2,0,0,4,0\\] (★☆☆) \n",
        "(**hint**: np.nonzero)"
      ]
    },
    {
      "cell_type": "code",
      "execution_count": null,
      "metadata": {
        "id": "TkKtN0v6LkCw",
        "colab": {
          "base_uri": "https://localhost:8080/"
        },
        "outputId": "ac07d321-1ce6-4b92-88bc-19b6d3f20bbf"
      },
      "outputs": [
        {
          "output_type": "stream",
          "name": "stdout",
          "text": [
            "(array([0, 1, 4]),)\n"
          ]
        }
      ],
      "source": [
        "array=np.array([1,2,0,0,4,0])\n",
        "\n",
        "\n",
        "print(np.nonzero(array))\n"
      ]
    },
    {
      "cell_type": "markdown",
      "metadata": {
        "id": "xqQygYV8LkCw"
      },
      "source": [
        "#### 11. Create a 3x3 identity matrix (★☆☆) \n",
        "(**hint**: np.eye)"
      ]
    },
    {
      "cell_type": "code",
      "execution_count": null,
      "metadata": {
        "id": "zf55WdMtLkCx",
        "colab": {
          "base_uri": "https://localhost:8080/"
        },
        "outputId": "2a7dde36-d82e-4df0-dc49-a31ce765fb87"
      },
      "outputs": [
        {
          "output_type": "stream",
          "name": "stdout",
          "text": [
            "[[0. 1. 0.]\n",
            " [0. 0. 1.]\n",
            " [0. 0. 0.]]\n"
          ]
        }
      ],
      "source": [
        "matrix=np.eye(3, k=1)\n",
        "print(matrix)"
      ]
    },
    {
      "cell_type": "markdown",
      "metadata": {
        "id": "tmkbiunZLkCx"
      },
      "source": [
        "#### 12. Create a 3x3x3 array with random values (★☆☆) \n",
        "(**hint**: np.random.random)"
      ]
    },
    {
      "cell_type": "code",
      "execution_count": null,
      "metadata": {
        "collapsed": true,
        "id": "H3GAI4eLLkCy",
        "colab": {
          "base_uri": "https://localhost:8080/"
        },
        "outputId": "507d005d-dd3e-4dd9-d957-c2ccac019bc1"
      },
      "outputs": [
        {
          "output_type": "stream",
          "name": "stdout",
          "text": [
            "[[[0.2287183  0.86955509 0.48653679]\n",
            "  [0.72940904 0.04685381 0.04473633]\n",
            "  [0.73974213 0.5637701  0.10274911]]\n",
            "\n",
            " [[0.84371525 0.29257916 0.04995975]\n",
            "  [0.95431342 0.25049929 0.45547355]\n",
            "  [0.45921676 0.85036953 0.81138517]]\n",
            "\n",
            " [[0.9817241  0.34987536 0.17061521]\n",
            "  [0.80191241 0.76523276 0.67823762]\n",
            "  [0.82949778 0.39216931 0.24427042]]]\n"
          ]
        }
      ],
      "source": [
        "matrix=np.random.random((3,3,3))\n",
        "print(matrix)"
      ]
    },
    {
      "cell_type": "markdown",
      "metadata": {
        "id": "G6XN6TVfLkCy"
      },
      "source": [
        "#### 13. Create a 10x10 array with random values and find the minimum and maximum values (★☆☆) \n",
        "(**hint**: min, max)"
      ]
    },
    {
      "cell_type": "code",
      "execution_count": null,
      "metadata": {
        "id": "LCVy5U6KLkCy",
        "colab": {
          "base_uri": "https://localhost:8080/"
        },
        "outputId": "dff35a33-a33a-4ac8-f7d3-c5c4d7c46b80"
      },
      "outputs": [
        {
          "output_type": "stream",
          "name": "stdout",
          "text": [
            "[[0.54111036 0.88595951 0.75642595 0.99034561 0.7129209  0.25881638\n",
            "  0.59859176 0.42449141 0.77818451 0.47154069]\n",
            " [0.66086925 0.49339406 0.12665466 0.19988296 0.3499265  0.40946215\n",
            "  0.29149789 0.94322722 0.38876671 0.26004056]\n",
            " [0.88083342 0.07491219 0.43499015 0.26693043 0.30208158 0.84306695\n",
            "  0.96641604 0.69846771 0.29765652 0.78834687]\n",
            " [0.06240312 0.83057239 0.17436432 0.5914972  0.03430526 0.97983956\n",
            "  0.01360629 0.43020378 0.83248001 0.70407966]\n",
            " [0.11282373 0.74858577 0.43217158 0.7113732  0.69757336 0.70014255\n",
            "  0.07423356 0.04802044 0.27325492 0.74520445]\n",
            " [0.29286663 0.65775614 0.24813932 0.27910623 0.25474036 0.12757823\n",
            "  0.43574835 0.83546799 0.38029973 0.24902097]\n",
            " [0.96411944 0.52400243 0.54440397 0.87991838 0.27733623 0.50055233\n",
            "  0.23266885 0.30401    0.27375179 0.42936505]\n",
            " [0.86448831 0.828296   0.86737945 0.630167   0.99246335 0.07479309\n",
            "  0.5362525  0.74587239 0.54250873 0.53594323]\n",
            " [0.54268249 0.22589836 0.50440537 0.42726424 0.18033741 0.37946672\n",
            "  0.97663052 0.72427791 0.42399591 0.7202271 ]\n",
            " [0.28481573 0.68020952 0.28761275 0.67689047 0.14186458 0.19661154\n",
            "  0.65927451 0.78307363 0.91577989 0.36020832]]\n",
            "0.9924633543281727\n",
            "0.013606286144751789\n"
          ]
        }
      ],
      "source": [
        "matrix=np.random.random((10,10))\n",
        "print(matrix)\n",
        "\n",
        "matrixmin,matrixmax=matrix.min(),matrix.max()\n",
        "print(matrixmax)\n",
        "print(matrixmin)"
      ]
    },
    {
      "cell_type": "markdown",
      "metadata": {
        "id": "KQgGSvyHLkCz"
      },
      "source": [
        "#### 14. Create a random vector of size 30 and find the mean value (★☆☆) \n",
        "(**hint**: mean)"
      ]
    },
    {
      "cell_type": "code",
      "execution_count": null,
      "metadata": {
        "id": "oDZoOZbwLkCz",
        "colab": {
          "base_uri": "https://localhost:8080/"
        },
        "outputId": "6093de3d-d6ed-4238-eb9a-82aba7d459f3"
      },
      "outputs": [
        {
          "output_type": "stream",
          "name": "stdout",
          "text": [
            "[0.38668771 0.90488401 0.62946346 0.24005236 0.12178641 0.80045049\n",
            " 0.36395695 0.8833545  0.246303   0.21330179 0.80036404 0.47886923\n",
            " 0.93398061 0.99445656 0.21368304 0.19616903 0.72822661 0.88547303\n",
            " 0.63118219 0.66376702 0.73039365 0.31294466 0.38099156 0.44474067\n",
            " 0.96355056 0.70761495 0.61806818 0.31056089 0.17971687 0.01749187]\n",
            "0.5327495296653413\n"
          ]
        }
      ],
      "source": [
        "vector=np.random.rand((30))\n",
        "mean=vector.mean()\n",
        "print(vector)\n",
        "print(mean)"
      ]
    },
    {
      "cell_type": "markdown",
      "metadata": {
        "id": "b-XG8OMsLkC0"
      },
      "source": [
        "#### 15. Create a 2d array with 1 on the border and 0 inside (★☆☆) \n",
        "(**hint**: array\\[1:-1, 1:-1\\])"
      ]
    },
    {
      "cell_type": "code",
      "execution_count": null,
      "metadata": {
        "id": "pXIqunrKLkC0",
        "colab": {
          "base_uri": "https://localhost:8080/"
        },
        "outputId": "c6ff9bbf-3e8d-4e6c-f78a-c8bc199a20c6"
      },
      "outputs": [
        {
          "output_type": "stream",
          "name": "stdout",
          "text": [
            "[[1. 1. 1. 1. 1. 1.]\n",
            " [1. 0. 0. 0. 0. 1.]\n",
            " [1. 0. 0. 0. 0. 1.]\n",
            " [1. 0. 0. 0. 0. 1.]\n",
            " [1. 0. 0. 0. 0. 1.]\n",
            " [1. 1. 1. 1. 1. 1.]]\n"
          ]
        }
      ],
      "source": [
        "array=np.ones((6,6))\n",
        "\n",
        "array[1:-1, 1:-1]=0\n",
        "print(array)"
      ]
    },
    {
      "cell_type": "markdown",
      "metadata": {
        "id": "K33NioIMLkC0"
      },
      "source": [
        "#### 16. How to add a border (filled with 0's) around an existing array? (★☆☆) \n",
        "(**hint**: np.pad)"
      ]
    },
    {
      "cell_type": "code",
      "execution_count": null,
      "metadata": {
        "id": "_OZMb9IcLkC1",
        "colab": {
          "base_uri": "https://localhost:8080/"
        },
        "outputId": "21df0bc1-8f42-43a4-e051-e25fb3e50ce9"
      },
      "outputs": [
        {
          "output_type": "stream",
          "name": "stdout",
          "text": [
            "[[0. 0. 0. 0. 0. 0. 0.]\n",
            " [0. 1. 1. 1. 1. 1. 0.]\n",
            " [0. 1. 1. 1. 1. 1. 0.]\n",
            " [0. 1. 1. 1. 1. 1. 0.]\n",
            " [0. 1. 1. 1. 1. 1. 0.]\n",
            " [0. 1. 1. 1. 1. 1. 0.]\n",
            " [0. 1. 1. 1. 1. 1. 0.]\n",
            " [0. 0. 0. 0. 0. 0. 0.]]\n"
          ]
        }
      ],
      "source": [
        "array=np.ones((6,5))\n",
        "\n",
        "x = np.pad(array, pad_width=1, mode='constant', constant_values=0)\n",
        "print(x)"
      ]
    },
    {
      "cell_type": "markdown",
      "metadata": {
        "id": "tD6pflPgLkC1"
      },
      "source": [
        "#### 17. What is the result of the following expression? (★☆☆) \n",
        "(**hint**: NaN = not a number, inf = infinity)"
      ]
    },
    {
      "cell_type": "markdown",
      "metadata": {
        "id": "947GPTlBLkC2"
      },
      "source": [
        "```python\n",
        "0 * np.nan\n",
        "np.nan == np.nan\n",
        "np.inf > np.nan\n",
        "np.nan - np.nan\n",
        "0.3 == 3 * 0.1\n",
        "```"
      ]
    },
    {
      "cell_type": "code",
      "execution_count": null,
      "metadata": {
        "id": "wWGjx7h5LkC2"
      },
      "outputs": [],
      "source": [
        "0 * np.nan\n",
        "np.nan == np.nan\n",
        "np.inf > np.nan\n",
        "np.nan - np.nan\n",
        "0.3 == 3 * 0.1"
      ]
    },
    {
      "cell_type": "markdown",
      "metadata": {
        "id": "lQJu55mrLkC3"
      },
      "source": [
        "#### 18. Create a 5x5 matrix with values 1,2,3,4 just below the diagonal (★☆☆) \n",
        "(**hint**: np.diag)"
      ]
    },
    {
      "cell_type": "code",
      "execution_count": null,
      "metadata": {
        "id": "ZAvnws5oLkC3",
        "colab": {
          "base_uri": "https://localhost:8080/"
        },
        "outputId": "d169b620-66f4-4c96-f411-dbfea7e75c73"
      },
      "outputs": [
        {
          "output_type": "stream",
          "name": "stdout",
          "text": [
            "[[1 0 0 0]\n",
            " [0 2 0 0]\n",
            " [0 0 3 0]\n",
            " [0 0 0 4]]\n"
          ]
        }
      ],
      "source": [
        "matrix=np.diag([1,2,3,4])\n",
        "\n",
        "print(matrix)"
      ]
    },
    {
      "cell_type": "markdown",
      "metadata": {
        "id": "Gl2Ega1ELkC4"
      },
      "source": [
        "#### 19. Create a 8x8 matrix and fill it with a checkerboard pattern (★☆☆) \n",
        "(**hint**: array\\[::2\\])"
      ]
    },
    {
      "cell_type": "code",
      "execution_count": null,
      "metadata": {
        "id": "xtGVWp6xLkC4",
        "colab": {
          "base_uri": "https://localhost:8080/"
        },
        "outputId": "57ca80db-2dc1-4ce6-a3c5-e9c38b406a31"
      },
      "outputs": [
        {
          "output_type": "stream",
          "name": "stdout",
          "text": [
            "Checkerboard pattern:\n",
            "[[0 1 0 1 0 1 0 1]\n",
            " [1 0 1 0 1 0 1 0]\n",
            " [0 1 0 1 0 1 0 1]\n",
            " [1 0 1 0 1 0 1 0]\n",
            " [0 1 0 1 0 1 0 1]\n",
            " [1 0 1 0 1 0 1 0]\n",
            " [0 1 0 1 0 1 0 1]\n",
            " [1 0 1 0 1 0 1 0]]\n"
          ]
        }
      ],
      "source": [
        "\n",
        "matrix= np.ones((3,3))\n",
        "print(\"Checkerboard pattern:\")\n",
        "matrix= np.zeros((8,8),dtype=int)\n",
        "matrix[1::2,::2] = 1\n",
        "matrix[::2,1::2] = 1\n",
        "print(matrix)\n"
      ]
    },
    {
      "cell_type": "markdown",
      "metadata": {
        "id": "52nCUWdlLkC5"
      },
      "source": [
        "#### 20. Consider a (6,7,8) shape array, what is the index (x,y,z) of the 100th element? \n",
        "(**hint**: np.unravel_index)"
      ]
    },
    {
      "cell_type": "code",
      "execution_count": null,
      "metadata": {
        "id": "IAcLy0M5LkC7",
        "colab": {
          "base_uri": "https://localhost:8080/"
        },
        "outputId": "a19e3c55-161d-4ae0-edb6-bd2a4997525d"
      },
      "outputs": [
        {
          "output_type": "stream",
          "name": "stdout",
          "text": [
            "(1, 5, 4)\n"
          ]
        }
      ],
      "source": [
        "print(np.unravel_index(100,(6,7,8)))"
      ]
    },
    {
      "cell_type": "markdown",
      "metadata": {
        "id": "Gb0ElS0FLkC8"
      },
      "source": [
        "#### 21. Create a checkerboard 8x8 matrix using the tile function (★☆☆) \n",
        "(**hint**: np.tile)"
      ]
    },
    {
      "cell_type": "code",
      "execution_count": null,
      "metadata": {
        "id": "j4o98sXxLkC9",
        "colab": {
          "base_uri": "https://localhost:8080/"
        },
        "outputId": "69cbcd8a-6175-489e-a424-1d68ff0d177e"
      },
      "outputs": [
        {
          "output_type": "stream",
          "name": "stdout",
          "text": [
            "[[0 1 0 1 0 1 0 1]\n",
            " [1 0 1 0 1 0 1 0]\n",
            " [0 1 0 1 0 1 0 1]\n",
            " [1 0 1 0 1 0 1 0]\n",
            " [0 1 0 1 0 1 0 1]\n",
            " [1 0 1 0 1 0 1 0]\n",
            " [0 1 0 1 0 1 0 1]\n",
            " [1 0 1 0 1 0 1 0]]\n"
          ]
        }
      ],
      "source": [
        "array= np.array([[0,1], [1,0]])\n",
        "x = np.tile(array,(4,4))\n",
        "print (x)"
      ]
    },
    {
      "cell_type": "markdown",
      "metadata": {
        "id": "FhDGaXLqLkC9"
      },
      "source": [
        "#### 22. Normalize a 5x5 random matrix (★☆☆) \n",
        "(**hint**: (x - min) / (max - min))"
      ]
    },
    {
      "cell_type": "code",
      "execution_count": null,
      "metadata": {
        "id": "1QWxPZ4ILkC9",
        "colab": {
          "base_uri": "https://localhost:8080/"
        },
        "outputId": "31cd28bd-8a58-4b3d-9bea-91143526f433"
      },
      "outputs": [
        {
          "output_type": "stream",
          "name": "stdout",
          "text": [
            "[[0.83070667 0.05281784 0.50263557 1.         0.00865028]\n",
            " [0.71340421 0.9457348  0.         0.86030776 0.19922388]\n",
            " [0.29154645 0.2778028  0.31700826 0.45068197 0.41234978]\n",
            " [0.17338336 0.98685755 0.07981694 0.80699498 0.42729352]\n",
            " [0.17948873 0.65300471 0.8122701  0.54997451 0.39724954]]\n"
          ]
        }
      ],
      "source": [
        "x = np.random.random((5,5))\n",
        "xmax, xmin = x.max(), x.min()\n",
        "x= (x-xmin)/(xmax-xmin)\n",
        "print (x)"
      ]
    },
    {
      "cell_type": "markdown",
      "metadata": {
        "id": "lvw7g7H1LkC-"
      },
      "source": [
        "#### 23. Create a custom dtype that describes a color as four unsigned bytes (RGBA) (★☆☆) \n",
        "(**hint**: np.dtype)"
      ]
    },
    {
      "cell_type": "code",
      "execution_count": null,
      "metadata": {
        "collapsed": true,
        "id": "Yxm8DqQwLkC-",
        "colab": {
          "base_uri": "https://localhost:8080/"
        },
        "outputId": "f350065f-6aa5-40ca-d2a4-2314e70b05e7"
      },
      "outputs": [
        {
          "output_type": "stream",
          "name": "stdout",
          "text": [
            "1\n"
          ]
        },
        {
          "output_type": "execute_result",
          "data": {
            "text/plain": [
              "numpy.ndarray"
            ]
          },
          "metadata": {},
          "execution_count": 3
        }
      ],
      "source": [
        "RGBA = np.dtype([('red',np.uint8),('green',np.uint8),('blue',np.uint8),('alpha',np.uint8)])\n",
        "color = np.array((1,2,4,3),dtype = RGBA)\n",
        "print(color['red'])\n",
        "type(color)"
      ]
    },
    {
      "cell_type": "markdown",
      "metadata": {
        "id": "pqF_gIXALkC_"
      },
      "source": [
        "#### 24. Multiply a 5x3 matrix by a 3x2 matrix (real matrix product) (★☆☆) \n",
        "(**hint**: np.dot | @)"
      ]
    },
    {
      "cell_type": "code",
      "execution_count": null,
      "metadata": {
        "id": "tsB4OVTLLkC_",
        "colab": {
          "base_uri": "https://localhost:8080/"
        },
        "outputId": "50ba7326-cfea-43ed-c0bb-8357e14c926e"
      },
      "outputs": [
        {
          "output_type": "stream",
          "name": "stdout",
          "text": [
            "[[0.92085404 0.9081012 ]\n",
            " [0.82551832 0.75392667]\n",
            " [0.48863986 0.59836747]\n",
            " [1.03891829 1.1600734 ]\n",
            " [1.09677995 1.08658763]]\n"
          ]
        },
        {
          "output_type": "execute_result",
          "data": {
            "text/plain": [
              "array([[0.92085404, 0.9081012 ],\n",
              "       [0.82551832, 0.75392667],\n",
              "       [0.48863986, 0.59836747],\n",
              "       [1.03891829, 1.1600734 ],\n",
              "       [1.09677995, 1.08658763]])"
            ]
          },
          "metadata": {},
          "execution_count": 4
        }
      ],
      "source": [
        "arr_1 = np.random.random((5,3))\n",
        "arr_2 = np.random.random((3,2))\n",
        "print(arr_1 @ arr_2)\n",
        "np.dot(arr_1,arr_2)"
      ]
    },
    {
      "cell_type": "markdown",
      "metadata": {
        "id": "VVBh6Wx-LkC_"
      },
      "source": [
        "#### 25. Given a 1D array, negate all elements which are between 3 and 8, in place. (★☆☆) \n",
        "(**hint**: >, <=)"
      ]
    },
    {
      "cell_type": "code",
      "execution_count": null,
      "metadata": {
        "id": "j092fVe8LkDA",
        "colab": {
          "base_uri": "https://localhost:8080/"
        },
        "outputId": "3417b080-0158-491f-8ddd-f7ffbe1d516b"
      },
      "outputs": [
        {
          "output_type": "stream",
          "name": "stdout",
          "text": [
            "[ 0  1  2 -3 -4 -5 -6 -7 -8  9 10 11 12 13 14 15]\n"
          ]
        }
      ],
      "source": [
        "arr = np.arange(16)\n",
        "#print(arr>=3)\n",
        "arr[(arr>=3) & (arr<=8)]*=(-1)\n",
        "print(arr)\n",
        "\n",
        "#arr = np.arange(16)\n",
        "\n",
        "#arr"
      ]
    },
    {
      "cell_type": "markdown",
      "metadata": {
        "id": "MkSTzcOVLkDA"
      },
      "source": [
        "#### 26. What is the output of the following script? (★☆☆) \n",
        "(**hint**: np.sum)"
      ]
    },
    {
      "cell_type": "markdown",
      "metadata": {
        "id": "-LTh0zSwLkDB"
      },
      "source": [
        "```python\n",
        "# Author: Jake VanderPlas\n",
        "\n",
        "print(sum(range(5),-1))\n",
        "from numpy import *\n",
        "print(sum(range(5),-1))\n",
        "```"
      ]
    },
    {
      "cell_type": "code",
      "execution_count": null,
      "metadata": {
        "id": "zjyk3BFVLkDB",
        "colab": {
          "base_uri": "https://localhost:8080/"
        },
        "outputId": "bfc429c1-f183-4f5d-91f9-604d06612675"
      },
      "outputs": [
        {
          "output_type": "stream",
          "name": "stdout",
          "text": [
            "10\n",
            "10\n"
          ]
        }
      ],
      "source": [
        "print(sum(range(5),-1))\n",
        "from numpy import *\n",
        "print(sum(range(5),-1))\n",
        "\n"
      ]
    },
    {
      "cell_type": "markdown",
      "metadata": {
        "id": "jUV0r9P9LkDC"
      },
      "source": [
        "#### 27. Consider an integer vector Z, which of these expressions are legal? (★☆☆)"
      ]
    },
    {
      "cell_type": "markdown",
      "metadata": {
        "id": "SoNu1wnFLkDC"
      },
      "source": [
        "```python\n",
        "Z**Z\n",
        "2 << Z >> 2\n",
        "Z <- Z\n",
        "1j*Z\n",
        "Z/1/1\n",
        "Z<Z>Z\n",
        "```"
      ]
    },
    {
      "cell_type": "code",
      "execution_count": null,
      "metadata": {
        "id": "m7d2FJE0LkDD",
        "colab": {
          "base_uri": "https://localhost:8080/"
        },
        "outputId": "9b9a657e-9849-4a33-8466-9c778c1b0932"
      },
      "outputs": [
        {
          "output_type": "stream",
          "name": "stdout",
          "text": [
            "[        1         1         4        27       256      3125     46656\n",
            "    823543  16777216 387420489]\n",
            "[  0   1   2   4   8  16  32  64 128 256]\n",
            "[False False False False False False False False False False]\n",
            "[0.+0.j 0.+1.j 0.+2.j 0.+3.j 0.+4.j 0.+5.j 0.+6.j 0.+7.j 0.+8.j 0.+9.j]\n",
            "[0. 1. 2. 3. 4. 5. 6. 7. 8. 9.]\n"
          ]
        }
      ],
      "source": [
        "Z= arange(10)\n",
        "\n",
        "print(Z**Z)\n",
        "print(2 << Z >> 2)\n",
        "print(Z <- Z)\n",
        "print(1j*Z)\n",
        "print(Z/1/1)\n",
        "\n",
        "\n",
        "#print(Z<Z>Z)     # this is the illegal expression"
      ]
    },
    {
      "cell_type": "markdown",
      "metadata": {
        "id": "eDeNBaYVLkDD"
      },
      "source": [
        "#### 28. What are the result of the following expressions?"
      ]
    },
    {
      "cell_type": "markdown",
      "metadata": {
        "id": "r_7ssD5eLkDE"
      },
      "source": [
        "```python\n",
        "np.array(0) / np.array(0)\n",
        "np.array(0) // np.array(0)\n",
        "np.array([np.nan]).astype(int).astype(float)\n",
        "```"
      ]
    },
    {
      "cell_type": "code",
      "execution_count": null,
      "metadata": {
        "id": "iasx4ZOvLkDE",
        "colab": {
          "base_uri": "https://localhost:8080/"
        },
        "outputId": "7ccd5235-3647-42e8-9c30-480b0cd67d13"
      },
      "outputs": [
        {
          "output_type": "stream",
          "name": "stdout",
          "text": [
            "nan\n",
            "0\n",
            "[-9.22337204e+18]\n"
          ]
        },
        {
          "output_type": "stream",
          "name": "stderr",
          "text": [
            "/usr/local/lib/python3.7/dist-packages/ipykernel_launcher.py:1: RuntimeWarning: invalid value encountered in true_divide\n",
            "  \"\"\"Entry point for launching an IPython kernel.\n",
            "/usr/local/lib/python3.7/dist-packages/ipykernel_launcher.py:2: RuntimeWarning: divide by zero encountered in floor_divide\n",
            "  \n"
          ]
        }
      ],
      "source": [
        "print(np.array(0) / np.array(0))\n",
        "print(np.array(0) // np.array(0))\n",
        "print(np.array([np.nan]).astype(int).astype(float))"
      ]
    },
    {
      "cell_type": "markdown",
      "metadata": {
        "id": "66QVxH_YLkDE"
      },
      "source": [
        "#### 29. How to round away from zero a float array ? (★☆☆) \n",
        "(**hint**: np.uniform, np.copysign, np.ceil, np.abs)"
      ]
    },
    {
      "cell_type": "code",
      "execution_count": null,
      "metadata": {
        "id": "0rtoITMHLkDF",
        "colab": {
          "base_uri": "https://localhost:8080/"
        },
        "outputId": "3bcc06f8-81f0-4bbc-f4c1-851c57d1e111"
      },
      "outputs": [
        {
          "output_type": "stream",
          "name": "stdout",
          "text": [
            "[[0.53073936 0.25209617 0.77857272 0.2492367  0.8889301 ]\n",
            " [0.13076774 0.30926326 0.80797573 0.3520163  0.78774044]\n",
            " [0.02203452 0.57817543 0.42632067 0.31785991 0.24889868]\n",
            " [0.92122137 0.45317955 0.53963718 0.74979457 0.66769876]\n",
            " [0.82186595 0.62376357 0.09626066 0.30893964 0.51703198]]\n",
            "[[0.53 0.25 0.78 0.25 0.89]\n",
            " [0.13 0.31 0.81 0.35 0.79]\n",
            " [0.02 0.58 0.43 0.32 0.25]\n",
            " [0.92 0.45 0.54 0.75 0.67]\n",
            " [0.82 0.62 0.1  0.31 0.52]]\n"
          ]
        }
      ],
      "source": [
        "arr = np.random.random((5,5))\n",
        "print(arr)\n",
        "arr = np.round(arr,2)\n",
        "print(arr)\n",
        "#arr=np.uniform(arr) \n",
        "#print(arr)\n"
      ]
    },
    {
      "cell_type": "markdown",
      "metadata": {
        "id": "H9yKanCuLkDF"
      },
      "source": [
        "#### 30. How to find common values between two arrays? (★☆☆) \n",
        "(**hint**: np.intersect1d)"
      ]
    },
    {
      "cell_type": "markdown",
      "source": [
        "Step 1 - Import the library\n",
        "\n",
        "Step 2 - Setup the Data\n",
        "\n",
        "Step 3 - Finding intersection and printing\n",
        "\n",
        "Step 4 - Lets look at our dataset now"
      ],
      "metadata": {
        "id": "c0ta9C--xE3R"
      }
    },
    {
      "cell_type": "code",
      "execution_count": null,
      "metadata": {
        "id": "-o-Rj1n-LkDG",
        "colab": {
          "base_uri": "https://localhost:8080/"
        },
        "outputId": "54e3b93e-ea75-4f6c-a15b-bc93f75f5403"
      },
      "outputs": [
        {
          "output_type": "stream",
          "name": "stdout",
          "text": [
            "[2 3 4 5]\n"
          ]
        }
      ],
      "source": [
        "x=np.array([1,2,3,4,5])\n",
        "y=np.array([3,5,2,6,4,8])\n",
        "\n",
        "print(np.intersect1d(x,y))"
      ]
    },
    {
      "cell_type": "markdown",
      "metadata": {
        "id": "Utq5WOlaLkDG"
      },
      "source": [
        "#### 31. How to ignore all numpy warnings (not recommended)? (★☆☆) \n",
        "(**hint**: np.seterr, np.errstate)"
      ]
    },
    {
      "cell_type": "markdown",
      "source": [
        "Step 1 - Import the library. import numpy as np. ...\n",
        "\n",
        "Step 2 - Setup the Data. data = np.random.random(1000).reshape(10, 10,10) * np.nan. ...\n",
        "\n",
        "Step 3 - Setup warning controller. np.seterr(all=\"ignore\") ...\n",
        "\n",
        "Step 4 - Calling warning statement. np.nanmedian(data, axis=[1, 2]) ...\n",
        "\n",
        "Step 5 - Lets look at our dataset now"
      ],
      "metadata": {
        "id": "0SX-uamKxu6W"
      }
    },
    {
      "cell_type": "code",
      "execution_count": null,
      "metadata": {
        "id": "yO1izzYLLkDG",
        "colab": {
          "base_uri": "https://localhost:8080/"
        },
        "outputId": "ebfc3b32-4aab-4904-bfdc-cdb617e75805"
      },
      "outputs": [
        {
          "output_type": "stream",
          "name": "stderr",
          "text": [
            "/usr/local/lib/python3.7/dist-packages/numpy/lib/nanfunctions.py:1120: RuntimeWarning: All-NaN slice encountered\n",
            "  overwrite_input=overwrite_input)\n"
          ]
        },
        {
          "output_type": "execute_result",
          "data": {
            "text/plain": [
              "array([nan, nan, nan, nan, nan, nan, nan, nan, nan, nan])"
            ]
          },
          "metadata": {},
          "execution_count": 5
        }
      ],
      "source": [
        "data = np.random.random(1000).reshape(10, 10,10) * np.nan\n",
        "np.seterr(all='ignore')\n",
        "np.nanmedian(data, axis=[1, 2])"
      ]
    },
    {
      "cell_type": "markdown",
      "metadata": {
        "id": "waoknkV5LkDH"
      },
      "source": [
        "#### 32. Is the following expressions true? (★☆☆) \n",
        "(**hint**: imaginary number)"
      ]
    },
    {
      "cell_type": "markdown",
      "metadata": {
        "id": "YCwe3rQ8LkDH"
      },
      "source": [
        "```python\n",
        "np.sqrt(-1) == np.emath.sqrt(-1)\n",
        "```"
      ]
    },
    {
      "cell_type": "code",
      "execution_count": null,
      "metadata": {
        "id": "_ESGMhNoLkDI",
        "colab": {
          "base_uri": "https://localhost:8080/"
        },
        "outputId": "1227e300-f04e-43ad-a83b-076388404b17"
      },
      "outputs": [
        {
          "output_type": "execute_result",
          "data": {
            "text/plain": [
              "False"
            ]
          },
          "metadata": {},
          "execution_count": 6
        }
      ],
      "source": [
        "np.sqrt(-1) == np.emath.sqrt(-1)"
      ]
    },
    {
      "cell_type": "markdown",
      "metadata": {
        "id": "g8YTsY8PLkDI"
      },
      "source": [
        "#### 33. How to get the dates of yesterday, today and tomorrow? (★☆☆) \n",
        "(**hint**: np.datetime64, np.timedelta64)"
      ]
    },
    {
      "cell_type": "markdown",
      "source": [
        "Step 1 - Import the library. import numpy as np. ...\n",
        "\n",
        "Step 2 - Generating dates. today = np.datetime64('today', 'D') yesterday = np.datetime64('today', 'D') - np.timedelta64(1, 'D') tomorrow =np.datetime64('today', 'D') + np.timedelta64(1, 'D') ...\n",
        "\n",
        "Step 3 - Printing dates. print(today) print(yesterday) print(tomorrow)"
      ],
      "metadata": {
        "id": "aUyuY4en5RiG"
      }
    },
    {
      "cell_type": "code",
      "execution_count": null,
      "metadata": {
        "collapsed": true,
        "id": "i2sDomKqLkDI",
        "colab": {
          "base_uri": "https://localhost:8080/"
        },
        "outputId": "5d4d0f21-7740-4b8c-982b-bca69a7c5134"
      },
      "outputs": [
        {
          "output_type": "stream",
          "name": "stdout",
          "text": [
            "2022-09-19\n",
            "2022-09-18\n",
            "2022-09-20\n"
          ]
        }
      ],
      "source": [
        "today = np.datetime64('today', 'D') \n",
        "yesterday = np.datetime64('today', 'D') - np.timedelta64(1, 'D') \n",
        "tomorrow =np.datetime64('today', 'D') + np.timedelta64(1, 'D')\n",
        "\n",
        "print(today)\n",
        "print(yesterday)\n",
        "print(tomorrow)"
      ]
    },
    {
      "cell_type": "markdown",
      "metadata": {
        "id": "OoT9TlUoLkDJ"
      },
      "source": [
        "#### 34. How to get all the dates corresponding to the month of July 2016? (★★☆) \n",
        "(**hint**: np.arange(dtype=datetime64\\['D'\\]))"
      ]
    },
    {
      "cell_type": "code",
      "execution_count": null,
      "metadata": {
        "id": "N7zlTikoLkDK",
        "colab": {
          "base_uri": "https://localhost:8080/"
        },
        "outputId": "c09dbf41-c309-44d9-b311-0ddccb13ada5"
      },
      "outputs": [
        {
          "output_type": "stream",
          "name": "stdout",
          "text": [
            "July, 2016\n",
            "['2016-06-01' '2016-06-02' '2016-06-03' '2016-06-04' '2016-06-05'\n",
            " '2016-06-06' '2016-06-07' '2016-06-08' '2016-06-09' '2016-06-10'\n",
            " '2016-06-11' '2016-06-12' '2016-06-13' '2016-06-14' '2016-06-15'\n",
            " '2016-06-16' '2016-06-17' '2016-06-18' '2016-06-19' '2016-06-20'\n",
            " '2016-06-21' '2016-06-22' '2016-06-23' '2016-06-24' '2016-06-25'\n",
            " '2016-06-26' '2016-06-27' '2016-06-28' '2016-06-29' '2016-06-30']\n"
          ]
        }
      ],
      "source": [
        "print(\"July, 2016\")\n",
        "print(np.arange('2016-06', '2016-07', dtype='datetime64[D]'))"
      ]
    },
    {
      "cell_type": "markdown",
      "metadata": {
        "id": "xB8fd8M5LkDL"
      },
      "source": [
        "#### 35. How to compute ((A+B)\\*(-A/2)) in place (without copy)? (★★☆) \n",
        "(**hint**: np.add(out=), np.negative(out=), np.multiply(out=), np.divide(out=))"
      ]
    },
    {
      "cell_type": "code",
      "execution_count": null,
      "metadata": {
        "id": "d8gWJu1kLkDN",
        "colab": {
          "base_uri": "https://localhost:8080/"
        },
        "outputId": "7045f7ca-f415-4b8d-832f-6b06d5e1c30b"
      },
      "outputs": [
        {
          "output_type": "stream",
          "name": "stdout",
          "text": [
            "50.0\n",
            "50.0\n"
          ]
        }
      ],
      "source": [
        "A = -10\n",
        "B = 20\n",
        "z = ((A+B)*(-A/2))\n",
        "print(z)\n",
        "\n",
        "B = np.add(A,B)\n",
        "A = np.divide(A,2)\n",
        "A = np.negative(A)\n",
        "A = np.multiply(A,B)\n",
        "print(A)"
      ]
    },
    {
      "cell_type": "markdown",
      "metadata": {
        "id": "b6k1Yz9nLkDN"
      },
      "source": [
        "#### 36. Extract the integer part of a random array using 5 different methods (★★☆) \n",
        "(**hint**: %, np.floor, np.ceil, astype, np.trunc)"
      ]
    },
    {
      "cell_type": "code",
      "execution_count": null,
      "metadata": {
        "id": "-C0n2AQJLkDO",
        "colab": {
          "base_uri": "https://localhost:8080/"
        },
        "outputId": "6974c8a9-69eb-413f-c294-894c0d124dfb"
      },
      "outputs": [
        {
          "output_type": "stream",
          "name": "stdout",
          "text": [
            "Z:\n",
            " [5.03772396 9.39118046 3.90549502 6.74906256 5.70117456 1.56974946\n",
            " 2.07918057 2.40640682 7.61693215 2.43025555]\n",
            "[5. 9. 3. 6. 5. 1. 2. 2. 7. 2.]\n",
            "[5. 9. 3. 6. 5. 1. 2. 2. 7. 2.]\n",
            "[5. 9. 3. 6. 5. 1. 2. 2. 7. 2.]\n",
            "[5 9 3 6 5 1 2 2 7 2]\n",
            "[5. 9. 3. 6. 5. 1. 2. 2. 7. 2.]\n"
          ]
        }
      ],
      "source": [
        "'''z = np.random.uniform(0,10,5)\n",
        "print(z)\n",
        "print(z-z%1)\n",
        "print(z.astype(int))\n",
        "print(z//1)\n",
        "print(np.floor(z))\n",
        "'''\n",
        "Z = np.random.uniform(0,10,10)\n",
        "#print(help(np.random.uniform))\n",
        "print('Z:\\n',Z)\n",
        "print (Z-Z%1)\n",
        "print (np.floor(Z))\n",
        "print (np.ceil(Z)-1)\n",
        "print (Z.astype(int))\n",
        "print (np.trunc(Z))"
      ]
    },
    {
      "cell_type": "markdown",
      "metadata": {
        "id": "2SkpA7_-LkDO"
      },
      "source": [
        "#### 37. Create a 5x5 matrix with row values ranging from 0 to 4 (★★☆) \n",
        "(**hint**: np.arange)"
      ]
    },
    {
      "cell_type": "code",
      "execution_count": null,
      "metadata": {
        "id": "GhiylNYqLkDO",
        "colab": {
          "base_uri": "https://localhost:8080/"
        },
        "outputId": "e1a9596a-78f3-4e4d-93fa-66cd3bdfc31f"
      },
      "outputs": [
        {
          "output_type": "stream",
          "name": "stdout",
          "text": [
            "Row values ranging from 0 to 4.\n",
            "[[0. 1. 2. 3. 4.]\n",
            " [0. 1. 2. 3. 4.]\n",
            " [0. 1. 2. 3. 4.]\n",
            " [0. 1. 2. 3. 4.]\n",
            " [0. 1. 2. 3. 4.]]\n"
          ]
        }
      ],
      "source": [
        "\n",
        "x = np.zeros((5,5))\n",
        "#print(\"Original array:\")\n",
        "#print(x)\n",
        "print(\"Row values ranging from 0 to 4.\")\n",
        "x += np.arange(5)\n",
        "print(x)\n"
      ]
    },
    {
      "cell_type": "markdown",
      "metadata": {
        "id": "Rd_PLWHNLkDP"
      },
      "source": [
        "#### 38. Consider a generator function that generates 10 integers and use it to build an array (★☆☆) \n",
        "(**hint**: np.fromiter)"
      ]
    },
    {
      "cell_type": "code",
      "execution_count": null,
      "metadata": {
        "id": "VYuKKZbiLkDP",
        "colab": {
          "base_uri": "https://localhost:8080/"
        },
        "outputId": "f919a5cd-c91c-49fc-c902-732414444d15"
      },
      "outputs": [
        {
          "output_type": "stream",
          "name": "stdout",
          "text": [
            "New array:\n",
            "[ 0.  1.  2.  3.  4.  5.  6.  7.  8.  9. 10. 11. 12. 13. 14.]\n"
          ]
        }
      ],
      "source": [
        "\n",
        "def generate():\n",
        "   for n in range(15):\n",
        "       yield n\n",
        "nums = np.fromiter(generate(),dtype=float,count=-1)\n",
        "print(\"New array:\")\n",
        "print(nums)\n"
      ]
    },
    {
      "cell_type": "markdown",
      "metadata": {
        "id": "-56daXwHLkDQ"
      },
      "source": [
        "#### 39. Create a vector of size 10 with values ranging from 0 to 1, both excluded (★★☆) \n",
        "(**hint**: np.linspace)"
      ]
    },
    {
      "cell_type": "code",
      "execution_count": null,
      "metadata": {
        "id": "W2CbYQ3uLkDQ",
        "colab": {
          "base_uri": "https://localhost:8080/"
        },
        "outputId": "2a7a8d0f-824b-4d9b-f7fc-e1904e91a5e6"
      },
      "outputs": [
        {
          "output_type": "stream",
          "name": "stdout",
          "text": [
            "[0.09090909 0.18181818 0.27272727 0.36363636 0.45454545 0.54545455\n",
            " 0.63636364 0.72727273 0.81818182 0.90909091]\n"
          ]
        }
      ],
      "source": [
        "\n",
        "x = np.linspace(0,1,12,endpoint=True)[1:-1]\n",
        "print(x)\n"
      ]
    },
    {
      "cell_type": "markdown",
      "metadata": {
        "id": "95nVne__LkDQ"
      },
      "source": [
        "#### 40. Create a random vector of size 10 and sort it (★★☆) \n",
        "(**hint**: sort)"
      ]
    },
    {
      "cell_type": "code",
      "execution_count": null,
      "metadata": {
        "id": "GPWGFdxJLkDR",
        "colab": {
          "base_uri": "https://localhost:8080/"
        },
        "outputId": "dad15777-b5de-4b99-f50a-0d2a92f597e6"
      },
      "outputs": [
        {
          "output_type": "stream",
          "name": "stdout",
          "text": [
            "Sorted array:\n",
            "[0.011339   0.04577551 0.12894162 0.13247235 0.20039422 0.2435092\n",
            " 0.46435755 0.6882145  0.87406109 0.93087046]\n"
          ]
        }
      ],
      "source": [
        "\n",
        "x = np.random.random(10)\n",
        "#print(\"Original array:\")\n",
        "#print(x)\n",
        "x.sort()\n",
        "print(\"Sorted array:\")\n",
        "print(x)\n"
      ]
    },
    {
      "cell_type": "markdown",
      "metadata": {
        "id": "fxl27c7FLkDR"
      },
      "source": [
        "#### 41. How to sum a small array faster than np.sum? (★★☆) \n",
        "(**hint**: np.add.reduce)"
      ]
    },
    {
      "cell_type": "code",
      "execution_count": null,
      "metadata": {
        "id": "r6xwHLPHLkDS",
        "colab": {
          "base_uri": "https://localhost:8080/"
        },
        "outputId": "f01c66dd-8bab-4b0c-82dc-52430219bdb8"
      },
      "outputs": [
        {
          "output_type": "stream",
          "name": "stdout",
          "text": [
            "[5 7 9]\n"
          ]
        }
      ],
      "source": [
        " \n",
        "x1 = np.array([1,2,3]) \n",
        "x2 = np.array([4,5,6]) \n",
        " \n",
        "print(np.add(x1,x2)) "
      ]
    },
    {
      "cell_type": "markdown",
      "metadata": {
        "id": "ZbEgXJopLkDS"
      },
      "source": [
        "#### 42. Consider two random array A and B, check if they are equal (★★☆) \n",
        "(**hint**: np.allclose, np.array\\_equal)"
      ]
    },
    {
      "cell_type": "code",
      "execution_count": null,
      "metadata": {
        "id": "E1LE51bFLkDT",
        "colab": {
          "base_uri": "https://localhost:8080/"
        },
        "outputId": "ab3214f4-8540-45f2-81b5-2989ac09e68c"
      },
      "outputs": [
        {
          "output_type": "stream",
          "name": "stdout",
          "text": [
            "False\n"
          ]
        }
      ],
      "source": [
        "\n",
        "ArithmeticError = np.random.randint(0,2,6)\n",
        "#print(\"First array:\")\n",
        "#print(x)\n",
        "B = np.random.randint(0,2,6)\n",
        "#print(\"Second array:\")\n",
        "#print(y)\n",
        "#print(\"Test above two arrays are equal or not!\")\n",
        "array_equal = np.allclose(A, B)\n",
        "print(array_equal)\n"
      ]
    },
    {
      "cell_type": "markdown",
      "metadata": {
        "id": "THUbWZU7LkDT"
      },
      "source": [
        "#### 43. Make an array immutable (read-only) (★★☆) \n",
        "(**hint**: flags.writeable)"
      ]
    },
    {
      "cell_type": "code",
      "execution_count": null,
      "metadata": {
        "id": "7ejNj8RaLkDT",
        "colab": {
          "base_uri": "https://localhost:8080/",
          "height": 244
        },
        "outputId": "390ed5d8-0ee7-4617-e2df-bc05f8d13c42"
      },
      "outputs": [
        {
          "output_type": "stream",
          "name": "stdout",
          "text": [
            "Test the array is read-only or not:\n",
            "Try to change the value of the first element:\n"
          ]
        },
        {
          "output_type": "error",
          "ename": "ValueError",
          "evalue": "ignored",
          "traceback": [
            "\u001b[0;31m---------------------------------------------------------------------------\u001b[0m",
            "\u001b[0;31mValueError\u001b[0m                                Traceback (most recent call last)",
            "\u001b[0;32m<ipython-input-36-068775d0fc55>\u001b[0m in \u001b[0;36m<module>\u001b[0;34m\u001b[0m\n\u001b[1;32m      3\u001b[0m \u001b[0mprint\u001b[0m\u001b[0;34m(\u001b[0m\u001b[0;34m\"Test the array is read-only or not:\"\u001b[0m\u001b[0;34m)\u001b[0m\u001b[0;34m\u001b[0m\u001b[0;34m\u001b[0m\u001b[0m\n\u001b[1;32m      4\u001b[0m \u001b[0mprint\u001b[0m\u001b[0;34m(\u001b[0m\u001b[0;34m\"Try to change the value of the first element:\"\u001b[0m\u001b[0;34m)\u001b[0m\u001b[0;34m\u001b[0m\u001b[0;34m\u001b[0m\u001b[0m\n\u001b[0;32m----> 5\u001b[0;31m \u001b[0mx\u001b[0m\u001b[0;34m[\u001b[0m\u001b[0;36m0\u001b[0m\u001b[0;34m]\u001b[0m \u001b[0;34m=\u001b[0m \u001b[0;36m1\u001b[0m\u001b[0;34m\u001b[0m\u001b[0;34m\u001b[0m\u001b[0m\n\u001b[0m",
            "\u001b[0;31mValueError\u001b[0m: assignment destination is read-only"
          ]
        }
      ],
      "source": [
        "\n",
        "x = np.zeros(10)\n",
        "x.flags.writeable = False\n",
        "print(\"Test the array is read-only or not:\")\n",
        "print(\"Try to change the value of the first element:\")\n",
        "x[0] = 1\n"
      ]
    },
    {
      "cell_type": "markdown",
      "metadata": {
        "id": "1nOOvo9HLkDU"
      },
      "source": [
        "#### 44. Consider a random 10x2 matrix representing cartesian coordinates, convert them to polar coordinates (★★☆) \n",
        "(**hint**: np.sqrt, np.arctan2)"
      ]
    },
    {
      "cell_type": "code",
      "execution_count": null,
      "metadata": {
        "id": "CPVk5qboLkDU",
        "colab": {
          "base_uri": "https://localhost:8080/"
        },
        "outputId": "f49cb53e-2bc5-49f0-869b-5ae9e257557c"
      },
      "outputs": [
        {
          "output_type": "stream",
          "name": "stdout",
          "text": [
            "[0.05411893 0.78889013 0.81765858 0.82842913 1.31251281 0.77502255\n",
            " 0.91965709 0.79361879 0.77347202 0.97935418]\n",
            "[1.14063963 0.38673838 0.11019253 0.26942274 0.73194227 0.45881088\n",
            " 1.29215313 0.0232516  1.49796284 1.47123   ]\n"
          ]
        }
      ],
      "source": [
        "\n",
        "z= np.random.random((10,2))\n",
        "x,y = z[:,0], z[:,1]\n",
        "r = np.sqrt(x**2+y**2)\n",
        "t = np.arctan2(y,x)\n",
        "print(r)\n",
        "print(t)\n"
      ]
    },
    {
      "cell_type": "markdown",
      "metadata": {
        "id": "-OErZHHOLkDU"
      },
      "source": [
        "#### 45. Create random vector of size 10 and replace the maximum value by 0 (★★☆) \n",
        "(**hint**: argmax)"
      ]
    },
    {
      "cell_type": "code",
      "execution_count": null,
      "metadata": {
        "id": "9kM3KASeLkDV",
        "colab": {
          "base_uri": "https://localhost:8080/"
        },
        "outputId": "260c8f3d-f995-4618-e774-b00619396953"
      },
      "outputs": [
        {
          "output_type": "stream",
          "name": "stdout",
          "text": [
            "Maximum value replaced by 0:\n",
            "[0.23598389 0.65799521 0.49378872 0.40856355 0.67458116 0.\n",
            " 0.81684    0.77723827 0.1984627  0.45276912]\n"
          ]
        }
      ],
      "source": [
        "\n",
        "x = np.random.random(10)\n",
        "#print(\"Original array:\")\n",
        "#print(x)\n",
        "x[x.argmax()] = 00\n",
        "\n",
        "print(\"Maximum value replaced by 0:\")\n",
        "print(x)\n"
      ]
    },
    {
      "cell_type": "markdown",
      "metadata": {
        "id": "5F_kZN-vLkDV"
      },
      "source": [
        "#### 46. Create a structured array with `x` and `y` coordinates covering the \\[0,1\\]x\\[0,1\\] area (★★☆) \n",
        "(**hint**: np.meshgrid)"
      ]
    },
    {
      "cell_type": "code",
      "execution_count": null,
      "metadata": {
        "id": "SdqAknP2LkDW",
        "colab": {
          "base_uri": "https://localhost:8080/"
        },
        "outputId": "b482cb38-7363-48ca-9dcf-46ddcdd1025a"
      },
      "outputs": [
        {
          "output_type": "stream",
          "name": "stdout",
          "text": [
            "[[(0.        , 0.        ) (0.11111111, 0.        )\n",
            "  (0.22222222, 0.        ) (0.33333333, 0.        )\n",
            "  (0.44444444, 0.        ) (0.55555556, 0.        )\n",
            "  (0.66666667, 0.        ) (0.77777778, 0.        )\n",
            "  (0.88888889, 0.        ) (1.        , 0.        )]\n",
            " [(0.        , 0.11111111) (0.11111111, 0.11111111)\n",
            "  (0.22222222, 0.11111111) (0.33333333, 0.11111111)\n",
            "  (0.44444444, 0.11111111) (0.55555556, 0.11111111)\n",
            "  (0.66666667, 0.11111111) (0.77777778, 0.11111111)\n",
            "  (0.88888889, 0.11111111) (1.        , 0.11111111)]\n",
            " [(0.        , 0.22222222) (0.11111111, 0.22222222)\n",
            "  (0.22222222, 0.22222222) (0.33333333, 0.22222222)\n",
            "  (0.44444444, 0.22222222) (0.55555556, 0.22222222)\n",
            "  (0.66666667, 0.22222222) (0.77777778, 0.22222222)\n",
            "  (0.88888889, 0.22222222) (1.        , 0.22222222)]\n",
            " [(0.        , 0.33333333) (0.11111111, 0.33333333)\n",
            "  (0.22222222, 0.33333333) (0.33333333, 0.33333333)\n",
            "  (0.44444444, 0.33333333) (0.55555556, 0.33333333)\n",
            "  (0.66666667, 0.33333333) (0.77777778, 0.33333333)\n",
            "  (0.88888889, 0.33333333) (1.        , 0.33333333)]\n",
            " [(0.        , 0.44444444) (0.11111111, 0.44444444)\n",
            "  (0.22222222, 0.44444444) (0.33333333, 0.44444444)\n",
            "  (0.44444444, 0.44444444) (0.55555556, 0.44444444)\n",
            "  (0.66666667, 0.44444444) (0.77777778, 0.44444444)\n",
            "  (0.88888889, 0.44444444) (1.        , 0.44444444)]\n",
            " [(0.        , 0.55555556) (0.11111111, 0.55555556)\n",
            "  (0.22222222, 0.55555556) (0.33333333, 0.55555556)\n",
            "  (0.44444444, 0.55555556) (0.55555556, 0.55555556)\n",
            "  (0.66666667, 0.55555556) (0.77777778, 0.55555556)\n",
            "  (0.88888889, 0.55555556) (1.        , 0.55555556)]\n",
            " [(0.        , 0.66666667) (0.11111111, 0.66666667)\n",
            "  (0.22222222, 0.66666667) (0.33333333, 0.66666667)\n",
            "  (0.44444444, 0.66666667) (0.55555556, 0.66666667)\n",
            "  (0.66666667, 0.66666667) (0.77777778, 0.66666667)\n",
            "  (0.88888889, 0.66666667) (1.        , 0.66666667)]\n",
            " [(0.        , 0.77777778) (0.11111111, 0.77777778)\n",
            "  (0.22222222, 0.77777778) (0.33333333, 0.77777778)\n",
            "  (0.44444444, 0.77777778) (0.55555556, 0.77777778)\n",
            "  (0.66666667, 0.77777778) (0.77777778, 0.77777778)\n",
            "  (0.88888889, 0.77777778) (1.        , 0.77777778)]\n",
            " [(0.        , 0.88888889) (0.11111111, 0.88888889)\n",
            "  (0.22222222, 0.88888889) (0.33333333, 0.88888889)\n",
            "  (0.44444444, 0.88888889) (0.55555556, 0.88888889)\n",
            "  (0.66666667, 0.88888889) (0.77777778, 0.88888889)\n",
            "  (0.88888889, 0.88888889) (1.        , 0.88888889)]\n",
            " [(0.        , 1.        ) (0.11111111, 1.        )\n",
            "  (0.22222222, 1.        ) (0.33333333, 1.        )\n",
            "  (0.44444444, 1.        ) (0.55555556, 1.        )\n",
            "  (0.66666667, 1.        ) (0.77777778, 1.        )\n",
            "  (0.88888889, 1.        ) (1.        , 1.        )]]\n"
          ]
        }
      ],
      "source": [
        "\n",
        "Z = np.zeros((10,10), [('x',float),('y',float)])\n",
        "Z['x'], Z['y'] = np.meshgrid(np.linspace(0,1,10),\n",
        "                             np.linspace(0,1,10))\n",
        "print(Z)"
      ]
    },
    {
      "cell_type": "markdown",
      "metadata": {
        "id": "WmWtRBGXLkDW"
      },
      "source": [
        "####  47. Given two arrays, X and Y, construct the Cauchy matrix C (Cij =1/(xi - yj)) \n",
        "(**hint**: np.subtract.outer)"
      ]
    },
    {
      "cell_type": "code",
      "execution_count": null,
      "metadata": {
        "id": "ZSdTk53JLkDW",
        "colab": {
          "base_uri": "https://localhost:8080/"
        },
        "outputId": "621cc2fb-38b0-49da-c09f-e6f54a231e03"
      },
      "outputs": [
        {
          "output_type": "stream",
          "name": "stdout",
          "text": [
            "3638.163637117973\n"
          ]
        }
      ],
      "source": [
        "'''x = np.array([1,2,3,4])\n",
        "y = np.array([5,6,7])\n",
        "\n",
        "c= 1.0 / (x.reshape((-1,1)) - y)\n",
        "\n",
        "print(c)'''\n",
        "\n",
        "\n",
        "X = np.arange(8)\n",
        "Y = X + 0.5\n",
        "C = 1.0 / np.subtract.outer(X, Y)\n",
        "print(np.linalg.det(C))"
      ]
    },
    {
      "cell_type": "markdown",
      "metadata": {
        "id": "TAL_wXi0LkDX"
      },
      "source": [
        "#### 48. Print the minimum and maximum representable value for each numpy scalar type (★★☆) \n",
        "(**hint**: np.iinfo, np.finfo, eps)"
      ]
    },
    {
      "cell_type": "code",
      "execution_count": null,
      "metadata": {
        "id": "2Yn33zEaLkDX",
        "colab": {
          "base_uri": "https://localhost:8080/"
        },
        "outputId": "93f2a7ed-efbe-4551-9c4b-47f414375c65"
      },
      "outputs": [
        {
          "output_type": "stream",
          "name": "stdout",
          "text": [
            "-128\n",
            "127\n",
            "-2147483648\n",
            "2147483647\n",
            "-9223372036854775808\n",
            "9223372036854775807\n",
            "-3.4028235e+38\n",
            "3.4028235e+38\n",
            "1.1920929e-07\n",
            "-1.7976931348623157e+308\n",
            "1.7976931348623157e+308\n",
            "2.220446049250313e-16\n"
          ]
        }
      ],
      "source": [
        "for dtype in [np.int8, np.int32, np.int64]:\n",
        "   print(np.iinfo(dtype).min)\n",
        "   print(np.iinfo(dtype).max)\n",
        "for dtype in [np.float32, np.float64]:\n",
        "   print(np.finfo(dtype).min)\n",
        "   print(np.finfo(dtype).max)\n",
        "   print(np.finfo(dtype).eps)"
      ]
    },
    {
      "cell_type": "markdown",
      "metadata": {
        "id": "spmOXe0XLkDY"
      },
      "source": [
        "#### 49. How to print all the values of an array? (★★☆) \n",
        "(**hint**: np.set\\_printoptions)"
      ]
    },
    {
      "cell_type": "code",
      "execution_count": null,
      "metadata": {
        "id": "SdZYRa2RLkDY",
        "colab": {
          "base_uri": "https://localhost:8080/"
        },
        "outputId": "92b02a4b-42f8-4d27-aac2-f92e5a840b85"
      },
      "outputs": [
        {
          "output_type": "stream",
          "name": "stdout",
          "text": [
            "[0 1 2 3 4 5 6 7 8 9]\n"
          ]
        }
      ],
      "source": [
        "import sys\n",
        "#import numpy as np\n",
        "array = np.arange(10)\n",
        "np.set_printoptions(threshold=sys.maxsize)\n",
        "print(array)"
      ]
    },
    {
      "cell_type": "markdown",
      "metadata": {
        "id": "zv2uBopTLkDY"
      },
      "source": [
        "#### 50. How to find the closest value (to a given scalar) in a vector? (★★☆) \n",
        "(**hint**: argmin)"
      ]
    },
    {
      "cell_type": "code",
      "execution_count": null,
      "metadata": {
        "id": "tTVtI64GLkDZ",
        "colab": {
          "base_uri": "https://localhost:8080/"
        },
        "outputId": "2fe28651-ab3b-4c95-fe77-fdf052b4be7f"
      },
      "outputs": [
        {
          "output_type": "stream",
          "name": "stdout",
          "text": [
            "50\n"
          ]
        }
      ],
      "source": [
        "Z = np.arange(100)\n",
        "v = np.random.uniform(0,100)\n",
        "index = (np.abs(Z-v)).argmin()\n",
        "print(Z[index])"
      ]
    },
    {
      "cell_type": "markdown",
      "metadata": {
        "id": "N-KBfBYMLkDZ"
      },
      "source": [
        "#### 51. Create a structured array representing a position (x,y) and a color (r,g,b) (★★☆) \n",
        "(**hint**: dtype)"
      ]
    },
    {
      "cell_type": "code",
      "execution_count": null,
      "metadata": {
        "id": "zuh9jTgiLkDZ",
        "colab": {
          "base_uri": "https://localhost:8080/"
        },
        "outputId": "96cffe2f-8d6b-414f-c242-37e172df2497"
      },
      "outputs": [
        {
          "output_type": "stream",
          "name": "stdout",
          "text": [
            "[((0., 0.), (0., 0., 0.)) ((0., 0.), (0., 0., 0.))\n",
            " ((0., 0.), (0., 0., 0.)) ((0., 0.), (0., 0., 0.))\n",
            " ((0., 0.), (0., 0., 0.)) ((0., 0.), (0., 0., 0.))\n",
            " ((0., 0.), (0., 0., 0.)) ((0., 0.), (0., 0., 0.))\n",
            " ((0., 0.), (0., 0., 0.)) ((0., 0.), (0., 0., 0.))]\n"
          ]
        },
        {
          "output_type": "stream",
          "name": "stderr",
          "text": [
            "/usr/local/lib/python3.7/dist-packages/ipykernel_launcher.py:5: FutureWarning: Passing (type, 1) or '1type' as a synonym of type is deprecated; in a future version of numpy, it will be understood as (type, (1,)) / '(1,)type'.\n",
            "  \"\"\"\n"
          ]
        }
      ],
      "source": [
        "Z = np.zeros(10, [ ('position', [ ('x', float, 1),\n",
        "                                   ('y', float, 1)]),\n",
        "                    ('color',    [ ('r', float, 1),\n",
        "                                   ('g', float, 1),\n",
        "                                   ('b', float, 1)])])\n",
        "print(Z)"
      ]
    },
    {
      "cell_type": "markdown",
      "metadata": {
        "id": "IeIoN1dKLkDa"
      },
      "source": [
        "#### 52. Consider a random vector with shape (100,2) representing coordinates, find point by point distances (★★☆) \n",
        "(**hint**: np.atleast\\_2d, T, np.sqrt)"
      ]
    },
    {
      "cell_type": "code",
      "execution_count": null,
      "metadata": {
        "id": "G_WeXEjiLkDd",
        "colab": {
          "base_uri": "https://localhost:8080/"
        },
        "outputId": "72dee25e-a0dc-4715-dc2b-9a90b848406a"
      },
      "outputs": [
        {
          "output_type": "stream",
          "name": "stdout",
          "text": [
            "[[0.         0.32978843 0.45742677 0.84815997 0.78499689 0.58273801\n",
            "  0.62806028 0.89549854 0.77602788 0.79624772]\n",
            " [0.32978843 0.         0.15572636 0.5457794  0.56024215 0.37463028\n",
            "  0.31316937 0.5658151  0.48530642 0.47961061]\n",
            " [0.45742677 0.15572636 0.         0.39510401 0.41311554 0.24519313\n",
            "  0.17097362 0.45818163 0.33074141 0.43218554]\n",
            " [0.84815997 0.5457794  0.39510401 0.         0.27468131 0.34596376\n",
            "  0.23534634 0.26836367 0.08483    0.44337475]\n",
            " [0.78499689 0.56024215 0.41311554 0.27468131 0.         0.20242517\n",
            "  0.34634172 0.5337666  0.2134231  0.66752781]\n",
            " [0.58273801 0.37463028 0.24519313 0.34596376 0.20242517 0.\n",
            "  0.26278761 0.54113155 0.26117003 0.6063877 ]\n",
            " [0.62806028 0.31316937 0.17097362 0.23534634 0.34634172 0.26278761\n",
            "  0.         0.30294216 0.1892781  0.34436716]\n",
            " [0.89549854 0.5658151  0.45818163 0.26836367 0.5337666  0.54113155\n",
            "  0.30294216 0.         0.32098293 0.2238394 ]\n",
            " [0.77602788 0.48530642 0.33074141 0.08483    0.2134231  0.26117003\n",
            "  0.1892781  0.32098293 0.         0.46314257]\n",
            " [0.79624772 0.47961061 0.43218554 0.44337475 0.66752781 0.6063877\n",
            "  0.34436716 0.2238394  0.46314257 0.        ]]\n",
            "[[0.         0.40367701 0.49860353 0.39241542 0.30653016 0.89259898\n",
            "  0.90665866 0.91476013 0.70775702 0.24786511]\n",
            " [0.40367701 0.         0.46824708 0.73177884 0.65803668 0.76531688\n",
            "  1.05487491 0.94257904 0.7223142  0.19202992]\n",
            " [0.49860353 0.46824708 0.         0.53167059 0.50773189 0.39527106\n",
            "  0.60327306 0.47696191 0.25516302 0.35152343]\n",
            " [0.39241542 0.73177884 0.53167059 0.         0.0865319  0.87634998\n",
            "  0.61894533 0.74268879 0.60060855 0.54036626]\n",
            " [0.30653016 0.65803668 0.50773189 0.0865319  0.         0.87412876\n",
            "  0.68000252 0.77546329 0.61351189 0.46843686]\n",
            " [0.89259898 0.76531688 0.39527106 0.87634998 0.87412876 0.\n",
            "  0.6348778  0.35473804 0.29743196 0.71478127]\n",
            " [0.90665866 1.05487491 0.60327306 0.61894533 0.68000252 0.6348778\n",
            "  0.         0.29633178 0.39333461 0.89579032]\n",
            " [0.91476013 0.94257904 0.47696191 0.74268879 0.77546329 0.35473804\n",
            "  0.29633178 0.         0.22211611 0.8231919 ]\n",
            " [0.70775702 0.7223142  0.25516302 0.60060855 0.61351189 0.29743196\n",
            "  0.39333461 0.22211611 0.         0.60158615]\n",
            " [0.24786511 0.19202992 0.35152343 0.54036626 0.46843686 0.71478127\n",
            "  0.89579032 0.8231919  0.60158615 0.        ]]\n"
          ]
        }
      ],
      "source": [
        "Z = np.random.random((10,2))\n",
        "X,Y = np.atleast_2d(Z[:,0]), np.atleast_2d(Z[:,1])\n",
        "D = np.sqrt( (X-X.T)**2 + (Y-Y.T)**2)\n",
        "print(D)\n",
        "\n",
        "# Much faster with scipy\n",
        "import scipy\n",
        "# Thanks Gavin Heverly-Coulson (#issue 1)\n",
        "import scipy.spatial\n",
        "\n",
        "Z = np.random.random((10,2))\n",
        "D = scipy.spatial.distance.cdist(Z,Z)\n",
        "print(D)"
      ]
    },
    {
      "cell_type": "markdown",
      "metadata": {
        "id": "YOfoFmIBLkDe"
      },
      "source": [
        "#### 53. How to convert a float (32 bits) array into an integer (32 bits) in place? \n",
        "(**hint**: astype(copy=False))"
      ]
    },
    {
      "cell_type": "code",
      "execution_count": null,
      "metadata": {
        "id": "6sBaAe1FLkDf",
        "colab": {
          "base_uri": "https://localhost:8080/"
        },
        "outputId": "7dcf7aec-2428-49d8-8105-aa6ba674c26d"
      },
      "outputs": [
        {
          "output_type": "stream",
          "name": "stdout",
          "text": [
            "[0. 1. 2. 3. 4. 5. 6. 7. 8. 9.]\n"
          ]
        }
      ],
      "source": [
        "Z = np.arange(10, dtype=np.int32)\n",
        "Z = Z.astype(np.float32, copy=False)\n",
        "print(Z)"
      ]
    },
    {
      "cell_type": "markdown",
      "metadata": {
        "id": "W0IqfVkKLkDf"
      },
      "source": [
        "#### 54. How to read the following file? (★★☆) \n",
        "(**hint**: np.genfromtxt)"
      ]
    },
    {
      "cell_type": "markdown",
      "metadata": {
        "id": "-P_BkFfLLkDg"
      },
      "source": [
        "```\n",
        "1, 2, 3, 4, 5\n",
        "6,  ,  , 7, 8\n",
        " ,  , 9,10,11\n",
        "```"
      ]
    },
    {
      "cell_type": "code",
      "execution_count": null,
      "metadata": {
        "id": "4Oq6k3CXLkDg",
        "colab": {
          "base_uri": "https://localhost:8080/"
        },
        "outputId": "f741d58d-856d-4043-ab0d-edac26190a7c"
      },
      "outputs": [
        {
          "output_type": "stream",
          "name": "stdout",
          "text": [
            "[[ 1  2  3  4  5]\n",
            " [ 6 -1 -1  7  8]\n",
            " [-1 -1  9 10 11]]\n"
          ]
        },
        {
          "output_type": "stream",
          "name": "stderr",
          "text": [
            "/usr/local/lib/python3.7/dist-packages/ipykernel_launcher.py:8: DeprecationWarning: `np.int` is a deprecated alias for the builtin `int`. To silence this warning, use `int` by itself. Doing this will not modify any behavior and is safe. When replacing `np.int`, you may wish to use e.g. `np.int64` or `np.int32` to specify the precision. If you wish to review your current use, check the release note link for additional information.\n",
            "Deprecated in NumPy 1.20; for more details and guidance: https://numpy.org/devdocs/release/1.20.0-notes.html#deprecations\n",
            "  \n"
          ]
        }
      ],
      "source": [
        "from io import StringIO\n",
        "\n",
        "s = StringIO('''1, 2, 3, 4, 5\n",
        "                6,  ,  , 7, 8\n",
        "                 ,  , 9,10,11\n",
        "''')\n",
        "\n",
        "Z = np.genfromtxt(s, delimiter=\",\", dtype=np.int)\n",
        "print(Z)"
      ]
    },
    {
      "cell_type": "markdown",
      "metadata": {
        "id": "gjCBKsKgLkDg"
      },
      "source": [
        "#### 55. What is the equivalent of enumerate for numpy arrays? (★★☆) \n",
        "(**hint**: np.ndenumerate, np.ndindex)"
      ]
    },
    {
      "cell_type": "code",
      "execution_count": null,
      "metadata": {
        "id": "wmY3LJL1LkDh",
        "colab": {
          "base_uri": "https://localhost:8080/"
        },
        "outputId": "3fac9902-c644-4588-9c2e-2d65f8f586a3"
      },
      "outputs": [
        {
          "output_type": "stream",
          "name": "stdout",
          "text": [
            "(0, 0) 0\n",
            "(0, 1) 1\n",
            "(0, 2) 2\n",
            "(1, 0) 3\n",
            "(1, 1) 4\n",
            "(1, 2) 5\n",
            "(2, 0) 6\n",
            "(2, 1) 7\n",
            "(2, 2) 8\n",
            "(0, 0) 0\n",
            "(0, 1) 1\n",
            "(0, 2) 2\n",
            "(1, 0) 3\n",
            "(1, 1) 4\n",
            "(1, 2) 5\n",
            "(2, 0) 6\n",
            "(2, 1) 7\n",
            "(2, 2) 8\n"
          ]
        }
      ],
      "source": [
        "Z = np.arange(9).reshape(3,3)\n",
        "for index, value in np.ndenumerate(Z):\n",
        "    print(index, value)\n",
        "for index in np.ndindex(Z.shape):\n",
        "    print(index, Z[index])"
      ]
    },
    {
      "cell_type": "markdown",
      "metadata": {
        "id": "8zYS_djqLkDh"
      },
      "source": [
        "#### 56. Generate a generic 2D Gaussian-like array (★★☆) \n",
        "(**hint**: np.meshgrid, np.exp)"
      ]
    },
    {
      "cell_type": "code",
      "execution_count": null,
      "metadata": {
        "id": "-BzCeQf6LkDh",
        "colab": {
          "base_uri": "https://localhost:8080/"
        },
        "outputId": "2bbbefd4-459c-4a38-d620-c4a6d979b142"
      },
      "outputs": [
        {
          "output_type": "stream",
          "name": "stdout",
          "text": [
            "[[0.36787944 0.44822088 0.51979489 0.57375342 0.60279818 0.60279818\n",
            "  0.57375342 0.51979489 0.44822088 0.36787944]\n",
            " [0.44822088 0.54610814 0.63331324 0.69905581 0.73444367 0.73444367\n",
            "  0.69905581 0.63331324 0.54610814 0.44822088]\n",
            " [0.51979489 0.63331324 0.73444367 0.81068432 0.85172308 0.85172308\n",
            "  0.81068432 0.73444367 0.63331324 0.51979489]\n",
            " [0.57375342 0.69905581 0.81068432 0.89483932 0.9401382  0.9401382\n",
            "  0.89483932 0.81068432 0.69905581 0.57375342]\n",
            " [0.60279818 0.73444367 0.85172308 0.9401382  0.98773022 0.98773022\n",
            "  0.9401382  0.85172308 0.73444367 0.60279818]\n",
            " [0.60279818 0.73444367 0.85172308 0.9401382  0.98773022 0.98773022\n",
            "  0.9401382  0.85172308 0.73444367 0.60279818]\n",
            " [0.57375342 0.69905581 0.81068432 0.89483932 0.9401382  0.9401382\n",
            "  0.89483932 0.81068432 0.69905581 0.57375342]\n",
            " [0.51979489 0.63331324 0.73444367 0.81068432 0.85172308 0.85172308\n",
            "  0.81068432 0.73444367 0.63331324 0.51979489]\n",
            " [0.44822088 0.54610814 0.63331324 0.69905581 0.73444367 0.73444367\n",
            "  0.69905581 0.63331324 0.54610814 0.44822088]\n",
            " [0.36787944 0.44822088 0.51979489 0.57375342 0.60279818 0.60279818\n",
            "  0.57375342 0.51979489 0.44822088 0.36787944]]\n"
          ]
        }
      ],
      "source": [
        "X, Y = np.meshgrid(np.linspace(-1,1,10), np.linspace(-1,1,10))\n",
        "D = np.sqrt(X*X+Y*Y)\n",
        "sigma, mu = 1.0, 0.0\n",
        "G = np.exp(-( (D-mu)**2 / ( 2.0 * sigma**2 ) ) )\n",
        "print(G)"
      ]
    },
    {
      "cell_type": "markdown",
      "metadata": {
        "id": "0gTqznihLkDi"
      },
      "source": [
        "#### 57. How to randomly place p elements in a 2D array? (★★☆) \n",
        "(**hint**: np.put, np.random.choice)"
      ]
    },
    {
      "cell_type": "code",
      "execution_count": null,
      "metadata": {
        "id": "DsjnQd2zLkDi",
        "colab": {
          "base_uri": "https://localhost:8080/"
        },
        "outputId": "6edcdeb3-1a90-4597-9d02-e3287b9243d5"
      },
      "outputs": [
        {
          "output_type": "stream",
          "name": "stdout",
          "text": [
            "[[0. 0. 0. 0. 0. 1. 0. 0. 0. 0.]\n",
            " [0. 0. 0. 0. 0. 0. 0. 0. 0. 0.]\n",
            " [0. 0. 0. 0. 0. 0. 0. 0. 0. 0.]\n",
            " [0. 0. 0. 0. 0. 0. 0. 0. 0. 0.]\n",
            " [0. 0. 0. 0. 0. 0. 0. 0. 0. 0.]\n",
            " [0. 0. 0. 0. 0. 0. 0. 0. 0. 0.]\n",
            " [0. 0. 0. 0. 0. 0. 0. 0. 0. 0.]\n",
            " [0. 0. 0. 0. 0. 1. 0. 0. 0. 0.]\n",
            " [0. 0. 0. 0. 0. 0. 0. 0. 0. 0.]\n",
            " [1. 0. 0. 0. 0. 0. 0. 0. 0. 0.]]\n"
          ]
        }
      ],
      "source": [
        "n = 10\n",
        "p = 3\n",
        "Z = np.zeros((n,n))\n",
        "np.put(Z, np.random.choice(range(n*n), p, replace=False),1)\n",
        "print (Z)"
      ]
    },
    {
      "cell_type": "markdown",
      "metadata": {
        "id": "7SCbNTtbLkDi"
      },
      "source": [
        "#### 58. Subtract the mean of each row of a matrix (★★☆) \n",
        "(**hint**: mean(axis=,keepdims=))"
      ]
    },
    {
      "cell_type": "code",
      "execution_count": null,
      "metadata": {
        "id": "06rZ-hhMLkDj",
        "colab": {
          "base_uri": "https://localhost:8080/"
        },
        "outputId": "1bc40ddc-3a52-4ecd-82bb-1413dedabe70"
      },
      "outputs": [
        {
          "output_type": "execute_result",
          "data": {
            "text/plain": [
              "array([[ 0.14141497, -0.14744587, -0.11208607,  0.15495116, -0.08156047,\n",
              "         0.10667817,  0.33166436, -0.49821242, -0.28466603,  0.38926219],\n",
              "       [-0.10092548, -0.25929689, -0.41555935,  0.45330041,  0.1969482 ,\n",
              "         0.29495039,  0.28178068, -0.36313208,  0.02009593, -0.1081618 ],\n",
              "       [-0.06399603, -0.350446  , -0.35689448, -0.08989127,  0.05568537,\n",
              "         0.0414303 , -0.06317339,  0.43071135,  0.49165337, -0.09507923],\n",
              "       [ 0.30856336, -0.35831567, -0.06387627, -0.0742927 ,  0.35186932,\n",
              "        -0.22141176, -0.26054755,  0.37092195,  0.21335375, -0.26626444],\n",
              "       [ 0.27257258, -0.26133882, -0.04722851, -0.29324851, -0.12325842,\n",
              "        -0.20776813, -0.09350566,  0.63367382,  0.16804586, -0.04794421]])"
            ]
          },
          "metadata": {},
          "execution_count": 67
        }
      ],
      "source": [
        "X = np.random.rand(5, 10)\n",
        "\n",
        "# Recent versions of numpy\n",
        "Y = X - X.mean(axis=1, keepdims=True)\n",
        "\n",
        "# Older versions of numpy\n",
        "Y = X - X.mean(axis=1).reshape(-1, 1)\n",
        "Y\n"
      ]
    },
    {
      "cell_type": "markdown",
      "metadata": {
        "id": "p9mZuq8XLkDj"
      },
      "source": [
        "#### 59. How to sort an array by the nth column? (★★☆) \n",
        "(**hint**: argsort)"
      ]
    },
    {
      "cell_type": "code",
      "execution_count": null,
      "metadata": {
        "id": "XGoteYv4LkDj",
        "colab": {
          "base_uri": "https://localhost:8080/"
        },
        "outputId": "c5f2103d-c274-47e3-b1c5-351696d04fa7"
      },
      "outputs": [
        {
          "output_type": "stream",
          "name": "stdout",
          "text": [
            "[[8 1 4]\n",
            " [7 1 4]\n",
            " [5 4 7]]\n",
            "[[8 1 4]\n",
            " [7 1 4]\n",
            " [5 4 7]]\n"
          ]
        }
      ],
      "source": [
        "Z = np.random.randint(0,10,(3,3))\n",
        "print(Z)\n",
        "print(Z[Z[:,1].argsort()])"
      ]
    },
    {
      "cell_type": "markdown",
      "metadata": {
        "id": "u0E2aYWcLkDk"
      },
      "source": [
        "#### 60. How to tell if a given 2D array has null columns? (★★☆) \n",
        "(**hint**: any, ~)"
      ]
    },
    {
      "cell_type": "code",
      "execution_count": null,
      "metadata": {
        "id": "RI9M2DYOLkDk",
        "colab": {
          "base_uri": "https://localhost:8080/"
        },
        "outputId": "f59ce3df-ad4f-49c1-9e74-1f1366774cc7"
      },
      "outputs": [
        {
          "output_type": "stream",
          "name": "stdout",
          "text": [
            "False\n"
          ]
        }
      ],
      "source": [
        "Z = np.random.randint(0,3,(3,10))\n",
        "print((~Z.any(axis=0)).any())"
      ]
    },
    {
      "cell_type": "markdown",
      "metadata": {
        "id": "cnDnSTMPLkDk"
      },
      "source": [
        "#### 61. Find the nearest value from a given value in an array (★★☆) \n",
        "(**hint**: np.abs, argmin, flat)"
      ]
    },
    {
      "cell_type": "code",
      "execution_count": null,
      "metadata": {
        "id": "WZazCTM7LkDl",
        "colab": {
          "base_uri": "https://localhost:8080/"
        },
        "outputId": "6e96b164-bc3e-49c5-9b1e-ba80e5b0f6e3"
      },
      "outputs": [
        {
          "output_type": "stream",
          "name": "stdout",
          "text": [
            "0.4403887050473765\n"
          ]
        }
      ],
      "source": [
        "Z = np.random.uniform(0,1,10)\n",
        "z = 0.5\n",
        "m = Z.flat[np.abs(Z - z).argmin()]\n",
        "print(m)"
      ]
    },
    {
      "cell_type": "markdown",
      "metadata": {
        "id": "EC80-MZdLkDl"
      },
      "source": [
        "#### 62. Considering two arrays with shape (1,3) and (3,1), how to compute their sum using an iterator? (★★☆) \n",
        "(**hint**: np.nditer)"
      ]
    },
    {
      "cell_type": "code",
      "execution_count": null,
      "metadata": {
        "id": "yQUSS1qiLkDl",
        "colab": {
          "base_uri": "https://localhost:8080/"
        },
        "outputId": "ef900053-57ba-41b3-e2c2-b24637b68882"
      },
      "outputs": [
        {
          "output_type": "stream",
          "name": "stdout",
          "text": [
            "[[0 1 2]\n",
            " [1 2 3]\n",
            " [2 3 4]]\n"
          ]
        }
      ],
      "source": [
        "A = np.arange(3).reshape(3,1)\n",
        "B = np.arange(3).reshape(1,3)\n",
        "it = np.nditer([A,B,None])\n",
        "for x,y,z in it: z[...] = x + y\n",
        "print(it.operands[2])"
      ]
    },
    {
      "cell_type": "markdown",
      "metadata": {
        "id": "QwF41-9mLkDm"
      },
      "source": [
        "#### 63. Create an array class that has a name attribute (★★☆) \n",
        "(**hint**: class method)"
      ]
    },
    {
      "cell_type": "code",
      "execution_count": null,
      "metadata": {
        "id": "uXGXsnIfLkDm",
        "colab": {
          "base_uri": "https://localhost:8080/"
        },
        "outputId": "b53353f6-8a5a-4275-8fa7-c07990cd5228"
      },
      "outputs": [
        {
          "output_type": "stream",
          "name": "stdout",
          "text": [
            "range_10\n"
          ]
        }
      ],
      "source": [
        "class NamedArray(np.ndarray):\n",
        "    def __new__(cls, array, name=\"no name\"):\n",
        "        obj = np.asarray(array).view(cls)\n",
        "        obj.name = name\n",
        "        return obj\n",
        "    def __array_finalize__(self, obj):\n",
        "        if obj is None: return\n",
        "        self.info = getattr(obj, 'name', \"no name\")\n",
        "\n",
        "Z = NamedArray(np.arange(10), \"range_10\")\n",
        "print (Z.name)\n"
      ]
    },
    {
      "cell_type": "markdown",
      "metadata": {
        "id": "20FTljNBLkDm"
      },
      "source": [
        "#### 64. Consider a given vector, how to add 1 to each element indexed by a second vector (be careful with repeated indices)? (★★★) \n",
        "(**hint**: np.bincount | np.add.at)"
      ]
    },
    {
      "cell_type": "code",
      "execution_count": null,
      "metadata": {
        "id": "RVvXftfCLkDn",
        "colab": {
          "base_uri": "https://localhost:8080/"
        },
        "outputId": "5b6a45b2-d58b-4fd5-b894-60b2b84121b8"
      },
      "outputs": [
        {
          "output_type": "stream",
          "name": "stdout",
          "text": [
            "[4. 3. 4. 1. 4. 2. 3. 2. 3. 4.]\n"
          ]
        }
      ],
      "source": [
        "Z = np.ones(10)\n",
        "I = np.random.randint(0,len(Z),20)\n",
        "Z += np.bincount(I, minlength=len(Z))\n",
        "print(Z)\n"
      ]
    },
    {
      "cell_type": "markdown",
      "metadata": {
        "id": "yjVDe4C-LkDn"
      },
      "source": [
        "#### 65. How to accumulate elements of a vector (X) to an array (F) based on an index list (I)? (★★★) \n",
        "(**hint**: np.bincount)"
      ]
    },
    {
      "cell_type": "code",
      "execution_count": null,
      "metadata": {
        "id": "_1ybuj7SLkDn",
        "colab": {
          "base_uri": "https://localhost:8080/"
        },
        "outputId": "e111c2a1-56db-499f-b2d7-849796c484e0"
      },
      "outputs": [
        {
          "output_type": "stream",
          "name": "stdout",
          "text": [
            "[0. 7. 0. 6. 5. 0. 0. 0. 0. 3.]\n"
          ]
        }
      ],
      "source": [
        "X = [1,2,3,4,5,6]\n",
        "I = [1,3,9,3,4,1]\n",
        "F = np.bincount(I,X)\n",
        "print(F)"
      ]
    },
    {
      "cell_type": "markdown",
      "metadata": {
        "id": "FEqYOBx8LkDo"
      },
      "source": [
        "#### 66. Considering a (w,h,3) image of (dtype=ubyte), compute the number of unique colors (★★★) \n",
        "(**hint**: np.unique)"
      ]
    },
    {
      "cell_type": "code",
      "execution_count": null,
      "metadata": {
        "id": "R-Qe7Y1LLkDo",
        "colab": {
          "base_uri": "https://localhost:8080/"
        },
        "outputId": "c2169827-c8e8-4cbc-cf8e-645aa1fe00e5"
      },
      "outputs": [
        {
          "output_type": "stream",
          "name": "stdout",
          "text": [
            "64\n"
          ]
        }
      ],
      "source": [
        "w, h = 256, 256\n",
        "I = np.random.randint(0, 4, (h, w, 3)).astype(np.ubyte)\n",
        "colors = np.unique(I.reshape(-1, 3), axis=0)\n",
        "n = len(colors)\n",
        "print(n)"
      ]
    },
    {
      "cell_type": "markdown",
      "metadata": {
        "id": "vLS6owExLkDo"
      },
      "source": [
        "#### 67. Considering a four dimensions array, how to get sum over the last two axis at once? (★★★) \n",
        "(**hint**: sum(axis=(-2,-1)))"
      ]
    },
    {
      "cell_type": "code",
      "execution_count": null,
      "metadata": {
        "id": "-JroKvdULkDp",
        "colab": {
          "base_uri": "https://localhost:8080/"
        },
        "outputId": "4a88bc7c-a2e2-4201-b056-4c917fce9d39"
      },
      "outputs": [
        {
          "output_type": "stream",
          "name": "stdout",
          "text": [
            "[[46 49 54 67]\n",
            " [66 64 66 65]\n",
            " [50 39 60 34]]\n",
            "[[46 49 54 67]\n",
            " [66 64 66 65]\n",
            " [50 39 60 34]]\n"
          ]
        }
      ],
      "source": [
        "A = np.random.randint(0,10,(3,4,3,4))\n",
        "# solution by passing a tuple of axes (introduced in numpy 1.7.0)\n",
        "sum = A.sum(axis=(-2,-1))\n",
        "print(sum)\n",
        "# solution by flattening the last two dimensions into one\n",
        "# (useful for functions that don't accept tuples for axis argument)\n",
        "sum = A.reshape(A.shape[:-2] + (-1,)).sum(axis=-1)\n",
        "print(sum)"
      ]
    },
    {
      "cell_type": "markdown",
      "metadata": {
        "id": "4HCibQCOLkDp"
      },
      "source": [
        "#### 68. Considering a one-dimensional vector D, how to compute means of subsets of D using a vector S of same size describing subset  indices? (★★★) \n",
        "(**hint**: np.bincount)"
      ]
    },
    {
      "cell_type": "code",
      "execution_count": null,
      "metadata": {
        "id": "WLCJevIJLkDq",
        "colab": {
          "base_uri": "https://localhost:8080/"
        },
        "outputId": "2db8c686-d80b-418e-b8de-3763606430b8"
      },
      "outputs": [
        {
          "output_type": "stream",
          "name": "stdout",
          "text": [
            "[0.46101215 0.36099749 0.45622224 0.52926178 0.43207874 0.36127043\n",
            " 0.5517268  0.61024976 0.44826287 0.4793125 ]\n",
            "0    0.461012\n",
            "1    0.360997\n",
            "2    0.456222\n",
            "3    0.529262\n",
            "4    0.432079\n",
            "5    0.361270\n",
            "6    0.551727\n",
            "7    0.610250\n",
            "8    0.448263\n",
            "9    0.479313\n",
            "dtype: float64\n"
          ]
        }
      ],
      "source": [
        "D = np.random.uniform(0,1,100)\n",
        "S = np.random.randint(0,10,100)\n",
        "D_sums = np.bincount(S, weights=D)\n",
        "D_counts = np.bincount(S)\n",
        "D_means = D_sums / D_counts\n",
        "print(D_means)\n",
        "\n",
        "# Pandas solution as a reference due to more intuitive code\n",
        "import pandas as pd\n",
        "print(pd.Series(D).groupby(S).mean())"
      ]
    },
    {
      "cell_type": "markdown",
      "metadata": {
        "id": "xQ27CGm3LkDu"
      },
      "source": [
        "#### 69. How to get the diagonal of a dot product? (★★★) \n",
        "(**hint**: np.diag)"
      ]
    },
    {
      "cell_type": "code",
      "execution_count": null,
      "metadata": {
        "id": "ZHTJ5yl8LkDv",
        "colab": {
          "base_uri": "https://localhost:8080/"
        },
        "outputId": "e4471b45-583e-492e-d04a-6adda3927674"
      },
      "outputs": [
        {
          "output_type": "execute_result",
          "data": {
            "text/plain": [
              "array([1.39020886, 0.87658955, 1.88195683, 1.62611902, 1.51954293])"
            ]
          },
          "metadata": {},
          "execution_count": 81
        }
      ],
      "source": [
        "A = np.random.uniform(0,1,(5,5))\n",
        "B = np.random.uniform(0,1,(5,5))\n",
        "\n",
        "# Slow version\n",
        "np.diag(np.dot(A, B))\n",
        "\n",
        "# Fast version\n",
        "np.sum(A * B.T, axis=1)"
      ]
    },
    {
      "cell_type": "markdown",
      "metadata": {
        "id": "KJvwrD-9LkDv"
      },
      "source": [
        "#### 70. Consider the vector \\[1, 2, 3, 4, 5\\], how to build a new vector with 3 consecutive zeros interleaved between each value? (★★★) \n",
        "(**hint**: array\\[::4\\])"
      ]
    },
    {
      "cell_type": "code",
      "execution_count": null,
      "metadata": {
        "id": "LlMcjZP4LkDv"
      },
      "outputs": [],
      "source": []
    },
    {
      "cell_type": "markdown",
      "metadata": {
        "id": "3ZkfcG4PLkDw"
      },
      "source": [
        "#### 71. Consider an array of dimension (5,5,3), how to mulitply it by an array with dimensions (5,5)? (★★★) \n",
        "(**hint**: array\\[:, :, None\\])"
      ]
    },
    {
      "cell_type": "code",
      "execution_count": null,
      "metadata": {
        "collapsed": true,
        "id": "b_uFdE_ELkDw",
        "colab": {
          "base_uri": "https://localhost:8080/"
        },
        "outputId": "f5323f12-c918-4b0e-a9e7-17c89db714de"
      },
      "outputs": [
        {
          "output_type": "stream",
          "name": "stdout",
          "text": [
            "[[[2. 2. 2.]\n",
            "  [2. 2. 2.]\n",
            "  [2. 2. 2.]\n",
            "  [2. 2. 2.]\n",
            "  [2. 2. 2.]]\n",
            "\n",
            " [[2. 2. 2.]\n",
            "  [2. 2. 2.]\n",
            "  [2. 2. 2.]\n",
            "  [2. 2. 2.]\n",
            "  [2. 2. 2.]]\n",
            "\n",
            " [[2. 2. 2.]\n",
            "  [2. 2. 2.]\n",
            "  [2. 2. 2.]\n",
            "  [2. 2. 2.]\n",
            "  [2. 2. 2.]]\n",
            "\n",
            " [[2. 2. 2.]\n",
            "  [2. 2. 2.]\n",
            "  [2. 2. 2.]\n",
            "  [2. 2. 2.]\n",
            "  [2. 2. 2.]]\n",
            "\n",
            " [[2. 2. 2.]\n",
            "  [2. 2. 2.]\n",
            "  [2. 2. 2.]\n",
            "  [2. 2. 2.]\n",
            "  [2. 2. 2.]]]\n"
          ]
        }
      ],
      "source": [
        "A = np.ones((5,5,3))\n",
        "B = 2*np.ones((5,5))\n",
        "print(A * B[:,:,None])"
      ]
    },
    {
      "cell_type": "markdown",
      "metadata": {
        "id": "Qv3fgWzBLkDw"
      },
      "source": [
        "#### 72. How to swap two rows of an array? (★★★) \n",
        "(**hint**: array\\[\\[\\]\\] = array\\[\\[\\]\\])"
      ]
    },
    {
      "cell_type": "code",
      "execution_count": null,
      "metadata": {
        "id": "G2sI4-8bLkDx",
        "colab": {
          "base_uri": "https://localhost:8080/"
        },
        "outputId": "0e1a19c0-eaef-428b-9326-479f934d635c"
      },
      "outputs": [
        {
          "output_type": "stream",
          "name": "stdout",
          "text": [
            "[[ 5  6  7  8  9]\n",
            " [ 0  1  2  3  4]\n",
            " [10 11 12 13 14]\n",
            " [15 16 17 18 19]\n",
            " [20 21 22 23 24]]\n"
          ]
        }
      ],
      "source": [
        "A = np.arange(25).reshape(5,5)\n",
        "A[[0,1]] = A[[1,0]]\n",
        "print(A)"
      ]
    },
    {
      "cell_type": "markdown",
      "metadata": {
        "id": "hWLZu84dLkDx"
      },
      "source": [
        "#### 73. Consider a set of 10 triplets describing 10 triangles (with shared vertices), find the set of unique line segments composing all the  triangles (★★★) \n",
        "(**hint**: repeat, np.roll, np.sort, view, np.unique)"
      ]
    },
    {
      "cell_type": "code",
      "execution_count": null,
      "metadata": {
        "id": "ltxS4KykLkDy",
        "colab": {
          "base_uri": "https://localhost:8080/"
        },
        "outputId": "d0faad92-4f91-411d-e4c0-c4f42cbf6b98"
      },
      "outputs": [
        {
          "output_type": "stream",
          "name": "stdout",
          "text": [
            "[( 3, 25) ( 3, 56) ( 3, 63) ( 3, 92) ( 7, 26) ( 7, 52) (13, 35) (13, 49)\n",
            " (24, 44) (24, 51) (24, 68) (24, 74) (25, 43) (25, 59) (25, 63) (26, 52)\n",
            " (26, 70) (26, 73) (30, 37) (30, 70) (35, 49) (37, 70) (43, 59) (44, 51)\n",
            " (44, 68) (44, 89) (51, 74) (51, 89) (56, 92) (70, 73)]\n"
          ]
        }
      ],
      "source": [
        "faces = np.random.randint(0,100,(10,3))\n",
        "F = np.roll(faces.repeat(2,axis=1),-1,axis=1)\n",
        "F = F.reshape(len(F)*3,2)\n",
        "F = np.sort(F,axis=1)\n",
        "G = F.view( dtype=[('p0',F.dtype),('p1',F.dtype)] )\n",
        "G = np.unique(G)\n",
        "print(G)"
      ]
    },
    {
      "cell_type": "markdown",
      "metadata": {
        "id": "fcALumkzLkDy"
      },
      "source": [
        "#### 74. Given an array C that is a bincount, how to produce an array A such that np.bincount(A) == C? (★★★) \n",
        "(**hint**: np.repeat)"
      ]
    },
    {
      "cell_type": "code",
      "execution_count": null,
      "metadata": {
        "id": "opAozMkvLkDy",
        "colab": {
          "base_uri": "https://localhost:8080/"
        },
        "outputId": "9bd65578-2089-409a-81c6-99889e82bb40"
      },
      "outputs": [
        {
          "output_type": "stream",
          "name": "stdout",
          "text": [
            "[1 1 2 3 4 4 6]\n"
          ]
        }
      ],
      "source": [
        "C = np.bincount([1,1,2,3,4,4,6])\n",
        "A = np.repeat(np.arange(len(C)), C)\n",
        "print(A)"
      ]
    },
    {
      "cell_type": "markdown",
      "metadata": {
        "id": "VR8MGbUeLkDz"
      },
      "source": [
        "#### 75. How to compute averages using a sliding window over an array? (★★★) \n",
        "(**hint**: np.cumsum)"
      ]
    },
    {
      "cell_type": "code",
      "execution_count": null,
      "metadata": {
        "id": "kLZ0sMFqLkDz",
        "colab": {
          "base_uri": "https://localhost:8080/"
        },
        "outputId": "881fcba5-5a90-428f-fef0-05c9da46171f"
      },
      "outputs": [
        {
          "output_type": "stream",
          "name": "stdout",
          "text": [
            "[ 1.  2.  3.  4.  5.  6.  7.  8.  9. 10. 11. 12. 13. 14. 15. 16. 17. 18.]\n"
          ]
        }
      ],
      "source": [
        "def moving_average(a, n=3) :\n",
        "    ret = np.cumsum(a, dtype=float)\n",
        "    ret[n:] = ret[n:] - ret[:-n]\n",
        "    return ret[n - 1:] / n\n",
        "Z = np.arange(20)\n",
        "print(moving_average(Z, n=3))"
      ]
    },
    {
      "cell_type": "markdown",
      "metadata": {
        "id": "PK88GLCrLkD0"
      },
      "source": [
        "#### 76. Consider a one-dimensional array Z, build a two-dimensional array whose first row is (Z\\[0\\],Z\\[1\\],Z\\[2\\]) and each subsequent row is  shifted by 1 (last row should be (Z\\[-3\\],Z\\[-2\\],Z\\[-1\\]) (★★★) \n",
        "(**hint**: from numpy.lib import stride_tricks)"
      ]
    },
    {
      "cell_type": "code",
      "execution_count": null,
      "metadata": {
        "id": "wWgmDtSkLkD0",
        "colab": {
          "base_uri": "https://localhost:8080/",
          "height": 182
        },
        "outputId": "cf8d25ba-6f35-4e01-81db-0578568592b1"
      },
      "outputs": [
        {
          "output_type": "stream",
          "name": "stdout",
          "text": [
            "[[0 1 2]\n",
            " [1 2 3]\n",
            " [2 3 4]\n",
            " [3 4 5]\n",
            " [4 5 6]\n",
            " [5 6 7]\n",
            " [6 7 8]\n",
            " [7 8 9]]\n"
          ]
        },
        {
          "output_type": "execute_result",
          "data": {
            "text/plain": [
              "'\\nZ = np.arange(10)\\nprint(sliding_window_view(Z, window_shape=3))'"
            ],
            "application/vnd.google.colaboratory.intrinsic+json": {
              "type": "string"
            }
          },
          "metadata": {},
          "execution_count": 91
        }
      ],
      "source": [
        "from numpy.lib import stride_tricks\n",
        "\n",
        "def rolling(a, window):\n",
        "    shape = (a.size - window + 1, window)\n",
        "    strides = (a.strides[0], a.strides[0])\n",
        "    return stride_tricks.as_strided(a, shape=shape, strides=strides)\n",
        "Z = rolling(np.arange(10), 3)\n",
        "print(Z)\n",
        "\n",
        "\n",
        "'''\n",
        "Z = np.arange(10)\n",
        "print(sliding_window_view(Z, window_shape=3))'''"
      ]
    },
    {
      "cell_type": "markdown",
      "metadata": {
        "id": "W5EIM1AMLkD0"
      },
      "source": [
        "#### 77. How to negate a boolean, or to change the sign of a float inplace? (★★★) \n",
        "(**hint**: np.logical_not, np.negative)"
      ]
    },
    {
      "cell_type": "code",
      "execution_count": null,
      "metadata": {
        "id": "pHCu8wcHLkD1",
        "colab": {
          "base_uri": "https://localhost:8080/"
        },
        "outputId": "fc7ee755-a56b-44fe-f546-aede41acef83"
      },
      "outputs": [
        {
          "output_type": "execute_result",
          "data": {
            "text/plain": [
              "array([ 1.29461019e-01, -2.46422569e-01, -7.96532761e-01,  8.52877670e-01,\n",
              "        2.11678056e-01, -3.58270248e-02, -5.89676695e-01, -3.31522316e-02,\n",
              "       -1.42984013e-01,  7.52018614e-01,  4.53799002e-01,  5.51381856e-01,\n",
              "        6.82445107e-01,  1.36247908e-01, -5.21661479e-01,  6.97713230e-01,\n",
              "        7.78735443e-02, -1.59509718e-01,  5.89124476e-01,  9.52438576e-01,\n",
              "       -8.82118673e-02, -4.65960092e-01, -2.18133923e-02,  2.38566231e-01,\n",
              "       -2.28606904e-01, -7.39814444e-01, -5.06724262e-01,  8.74426610e-01,\n",
              "        6.13572823e-01,  9.42195624e-02, -8.90298876e-01, -3.05207463e-01,\n",
              "        3.67597621e-03,  2.70994351e-01,  7.48524079e-01,  1.91887618e-01,\n",
              "       -9.44425471e-01,  4.36200809e-01,  1.44272883e-02,  7.12924209e-01,\n",
              "        4.33909457e-01, -1.00678854e-01, -8.86072884e-01,  9.86458523e-01,\n",
              "       -5.93490986e-02,  1.67162679e-01, -4.71686996e-02,  2.56304452e-01,\n",
              "       -9.26269926e-01, -7.32819212e-01, -1.88999520e-01, -4.12952452e-01,\n",
              "       -6.16358153e-01, -3.18678253e-01,  2.64332915e-01,  7.71010046e-01,\n",
              "        8.46732055e-01,  8.09769699e-01, -8.52244985e-01, -4.77026803e-01,\n",
              "        7.69567472e-01, -5.34737157e-01,  3.16555244e-01,  4.27210222e-01,\n",
              "        6.31889129e-01,  4.22869102e-02,  7.79316745e-01, -7.46033701e-01,\n",
              "        1.63362749e-01,  3.32742448e-01,  9.57022122e-04,  8.70542952e-01,\n",
              "       -6.71031416e-01,  2.80188806e-01,  5.43841935e-01, -5.98869422e-02,\n",
              "       -3.23685185e-01,  7.55335714e-01,  4.54429366e-01,  5.99908253e-01,\n",
              "        7.76038358e-01, -6.32454731e-01,  3.75116190e-02, -9.50716402e-01,\n",
              "        7.74084783e-02,  8.92306478e-01, -7.11644729e-01,  4.25281566e-01,\n",
              "       -2.33058530e-01,  6.24812086e-01, -2.30174678e-01, -5.79442381e-01,\n",
              "        2.65312311e-01,  1.16592182e-01,  7.63825378e-01, -4.50983761e-01,\n",
              "       -4.54435048e-01, -9.55692442e-01,  6.08592120e-01, -9.24107802e-01])"
            ]
          },
          "metadata": {},
          "execution_count": 92
        }
      ],
      "source": [
        "Z = np.random.randint(0,2,100)\n",
        "np.logical_not(Z, out=Z)\n",
        "\n",
        "Z = np.random.uniform(-1.0,1.0,100)\n",
        "np.negative(Z, out=Z)"
      ]
    },
    {
      "cell_type": "markdown",
      "metadata": {
        "id": "5iSMbXKbLkD1"
      },
      "source": [
        "#### 78. Consider 2 sets of points P0,P1 describing lines (2d) and a point p, how to compute distance from p to each line i  (P0\\[i\\],P1\\[i\\])? (★★★)"
      ]
    },
    {
      "cell_type": "code",
      "execution_count": null,
      "metadata": {
        "id": "175BuzflLkD1"
      },
      "outputs": [],
      "source": []
    },
    {
      "cell_type": "markdown",
      "metadata": {
        "id": "Qbxp2fVqLkD2"
      },
      "source": [
        "#### 79. Consider 2 sets of points P0,P1 describing lines (2d) and a set of points P, how to compute distance from each point j (P\\[j\\]) to each line i (P0\\[i\\],P1\\[i\\])? (★★★)"
      ]
    },
    {
      "cell_type": "code",
      "execution_count": null,
      "metadata": {
        "id": "usH8vqi1LkD2",
        "colab": {
          "base_uri": "https://localhost:8080/"
        },
        "outputId": "f7e7131c-a365-43ad-89a5-3197380906df"
      },
      "outputs": [
        {
          "output_type": "stream",
          "name": "stdout",
          "text": [
            "[9.34126792 6.11689036 7.42873279 2.30930986 6.11897804 6.80544884\n",
            " 8.15012176 4.38145553 0.16876935 5.78603234]\n"
          ]
        }
      ],
      "source": [
        "def distance(P0, P1, p):\n",
        "    T = P1 - P0\n",
        "    L = (T**2).sum(axis=1)\n",
        "    U = -((P0[:,0]-p[...,0])*T[:,0] + (P0[:,1]-p[...,1])*T[:,1]) / L\n",
        "    U = U.reshape(len(U),1)\n",
        "    D = P0 + U*T - p\n",
        "    return np.sqrt((D**2).sum(axis=1))\n",
        "\n",
        "P0 = np.random.uniform(-10,10,(10,2))\n",
        "P1 = np.random.uniform(-10,10,(10,2))\n",
        "p  = np.random.uniform(-10,10,( 1,2))\n",
        "print(distance(P0, P1, p))"
      ]
    },
    {
      "cell_type": "markdown",
      "metadata": {
        "id": "Oeyb4sfRLkD3"
      },
      "source": [
        "#### 80. Consider an arbitrary array, write a function that extract a subpart with a fixed shape and centered on a given element (pad with a `fill` value when necessary) (★★★) \n",
        "(**hint**: minimum, maximum)"
      ]
    },
    {
      "cell_type": "code",
      "execution_count": null,
      "metadata": {
        "id": "_ACPpq0gLkD3",
        "colab": {
          "base_uri": "https://localhost:8080/"
        },
        "outputId": "9722a5a5-4b44-4f92-8ec2-ee933737d123"
      },
      "outputs": [
        {
          "output_type": "stream",
          "name": "stdout",
          "text": [
            "[[3 5 4 1 9 4 9 5 5 6]\n",
            " [9 5 6 9 6 5 9 2 8 5]\n",
            " [8 6 5 0 3 9 3 4 3 9]\n",
            " [5 5 9 5 1 2 4 7 2 5]\n",
            " [3 1 5 8 5 0 6 5 2 7]\n",
            " [3 1 6 4 9 2 0 5 5 2]\n",
            " [7 2 6 0 1 0 2 4 3 6]\n",
            " [8 4 4 3 5 2 4 0 6 4]\n",
            " [2 8 8 1 3 3 6 5 6 4]\n",
            " [7 5 9 9 3 9 1 1 2 6]]\n",
            "[[0 0 0 0 0]\n",
            " [0 3 5 4 1]\n",
            " [0 9 5 6 9]\n",
            " [0 8 6 5 0]\n",
            " [0 5 5 9 5]]\n"
          ]
        },
        {
          "output_type": "stream",
          "name": "stderr",
          "text": [
            "/usr/local/lib/python3.7/dist-packages/ipykernel_launcher.py:23: FutureWarning: Using a non-tuple sequence for multidimensional indexing is deprecated; use `arr[tuple(seq)]` instead of `arr[seq]`. In the future this will be interpreted as an array index, `arr[np.array(seq)]`, which will result either in an error or a different result.\n"
          ]
        }
      ],
      "source": [
        "Z = np.random.randint(0,10,(10,10))\n",
        "shape = (5,5)\n",
        "fill  = 0\n",
        "position = (1,1)\n",
        "\n",
        "R = np.ones(shape, dtype=Z.dtype)*fill\n",
        "P  = np.array(list(position)).astype(int)\n",
        "Rs = np.array(list(R.shape)).astype(int)\n",
        "Zs = np.array(list(Z.shape)).astype(int)\n",
        "\n",
        "R_start = np.zeros((len(shape),)).astype(int)\n",
        "R_stop  = np.array(list(shape)).astype(int)\n",
        "Z_start = (P-Rs//2)\n",
        "Z_stop  = (P+Rs//2)+Rs%2\n",
        "\n",
        "R_start = (R_start - np.minimum(Z_start,0)).tolist()\n",
        "Z_start = (np.maximum(Z_start,0)).tolist()\n",
        "R_stop = np.maximum(R_start, (R_stop - np.maximum(Z_stop-Zs,0))).tolist()\n",
        "Z_stop = (np.minimum(Z_stop,Zs)).tolist()\n",
        "\n",
        "r = [slice(start,stop) for start,stop in zip(R_start,R_stop)]\n",
        "z = [slice(start,stop) for start,stop in zip(Z_start,Z_stop)]\n",
        "R[r] = Z[z]\n",
        "print(Z)\n",
        "print(R)"
      ]
    },
    {
      "cell_type": "markdown",
      "metadata": {
        "id": "OgxSZrbxLkD4"
      },
      "source": [
        "#### 81. Consider an array Z = \\[1,2,3,4,5,6,7,8,9,10,11,12,13,14\\], how to generate an array R = \\[\\[1,2,3,4\\], \\[2,3,4,5\\], \\[3,4,5,6\\], ..., \\[11,12,13,14\\]\\]? (★★★) \n",
        "(**hint**: stride\\_tricks.as\\_strided)"
      ]
    },
    {
      "cell_type": "code",
      "execution_count": null,
      "metadata": {
        "id": "xloVp68uLkD4",
        "colab": {
          "base_uri": "https://localhost:8080/"
        },
        "outputId": "ebf92cfb-3c1b-460a-a4ec-092671691c8b"
      },
      "outputs": [
        {
          "output_type": "stream",
          "name": "stdout",
          "text": [
            "[[ 1  2  3  4]\n",
            " [ 2  3  4  5]\n",
            " [ 3  4  5  6]\n",
            " [ 4  5  6  7]\n",
            " [ 5  6  7  8]\n",
            " [ 6  7  8  9]\n",
            " [ 7  8  9 10]\n",
            " [ 8  9 10 11]\n",
            " [ 9 10 11 12]\n",
            " [10 11 12 13]\n",
            " [11 12 13 14]]\n"
          ]
        }
      ],
      "source": [
        "Z = np.arange(1,15,dtype=np.uint32)\n",
        "R = stride_tricks.as_strided(Z,(11,4),(4,4))\n",
        "print(R)\n"
      ]
    },
    {
      "cell_type": "markdown",
      "metadata": {
        "id": "itRkJoINLkD4"
      },
      "source": [
        "#### 82. Compute a matrix rank (★★★) \n",
        "(**hint**: np.linalg.svd) (suggestion: np.linalg.svd)"
      ]
    },
    {
      "cell_type": "code",
      "execution_count": null,
      "metadata": {
        "id": "NGa5DiycLkD5",
        "colab": {
          "base_uri": "https://localhost:8080/"
        },
        "outputId": "d50aa6f0-f97c-417c-fb08-10e62cf57a42"
      },
      "outputs": [
        {
          "output_type": "stream",
          "name": "stdout",
          "text": [
            "10\n"
          ]
        }
      ],
      "source": [
        "'''Z = np.random.uniform(0,1,(10,10))\n",
        "U, S, V = np.linalg.svd(Z) # Singular Value Decomposition\n",
        "rank = np.sum(S > 1e-10)\n",
        "print(rank)'''\n",
        "\n",
        "rank = np.linalg.matrix_rank(Z)\n",
        "print(rank)\n"
      ]
    },
    {
      "cell_type": "markdown",
      "metadata": {
        "id": "R7NA9-q5LkD5"
      },
      "source": [
        "#### 83. How to find the most frequent value in an array? \n",
        "(**hint**: np.bincount, argmax)"
      ]
    },
    {
      "cell_type": "code",
      "execution_count": null,
      "metadata": {
        "id": "1ZYLUGQNLkD6",
        "colab": {
          "base_uri": "https://localhost:8080/"
        },
        "outputId": "b89e4387-4348-4079-e01b-6583f91c172f"
      },
      "outputs": [
        {
          "output_type": "stream",
          "name": "stdout",
          "text": [
            "7\n"
          ]
        }
      ],
      "source": [
        "Z = np.random.randint(0,10,50)\n",
        "print(np.bincount(Z).argmax())"
      ]
    },
    {
      "cell_type": "markdown",
      "metadata": {
        "id": "FNlZmt9-LkD7"
      },
      "source": [
        "#### 84. Extract all the contiguous 3x3 blocks from a random 10x10 matrix (★★★) \n",
        "(**hint**: stride\\_tricks.as\\_strided)"
      ]
    },
    {
      "cell_type": "code",
      "execution_count": null,
      "metadata": {
        "id": "6oRHhYkLLkD9",
        "colab": {
          "base_uri": "https://localhost:8080/"
        },
        "outputId": "31603848-a92b-4ea3-a46e-f0ea5a103c2c"
      },
      "outputs": [
        {
          "output_type": "stream",
          "name": "stdout",
          "text": [
            "[[[[1 3 2]\n",
            "   [4 2 3]\n",
            "   [2 4 0]]\n",
            "\n",
            "  [[3 2 2]\n",
            "   [2 3 1]\n",
            "   [4 0 1]]\n",
            "\n",
            "  [[2 2 0]\n",
            "   [3 1 1]\n",
            "   [0 1 1]]\n",
            "\n",
            "  [[2 0 3]\n",
            "   [1 1 1]\n",
            "   [1 1 3]]\n",
            "\n",
            "  [[0 3 0]\n",
            "   [1 1 3]\n",
            "   [1 3 2]]\n",
            "\n",
            "  [[3 0 2]\n",
            "   [1 3 2]\n",
            "   [3 2 0]]\n",
            "\n",
            "  [[0 2 2]\n",
            "   [3 2 3]\n",
            "   [2 0 0]]\n",
            "\n",
            "  [[2 2 1]\n",
            "   [2 3 3]\n",
            "   [0 0 4]]]\n",
            "\n",
            "\n",
            " [[[4 2 3]\n",
            "   [2 4 0]\n",
            "   [1 3 3]]\n",
            "\n",
            "  [[2 3 1]\n",
            "   [4 0 1]\n",
            "   [3 3 0]]\n",
            "\n",
            "  [[3 1 1]\n",
            "   [0 1 1]\n",
            "   [3 0 4]]\n",
            "\n",
            "  [[1 1 1]\n",
            "   [1 1 3]\n",
            "   [0 4 2]]\n",
            "\n",
            "  [[1 1 3]\n",
            "   [1 3 2]\n",
            "   [4 2 0]]\n",
            "\n",
            "  [[1 3 2]\n",
            "   [3 2 0]\n",
            "   [2 0 0]]\n",
            "\n",
            "  [[3 2 3]\n",
            "   [2 0 0]\n",
            "   [0 0 4]]\n",
            "\n",
            "  [[2 3 3]\n",
            "   [0 0 4]\n",
            "   [0 4 4]]]\n",
            "\n",
            "\n",
            " [[[2 4 0]\n",
            "   [1 3 3]\n",
            "   [3 1 2]]\n",
            "\n",
            "  [[4 0 1]\n",
            "   [3 3 0]\n",
            "   [1 2 3]]\n",
            "\n",
            "  [[0 1 1]\n",
            "   [3 0 4]\n",
            "   [2 3 1]]\n",
            "\n",
            "  [[1 1 3]\n",
            "   [0 4 2]\n",
            "   [3 1 0]]\n",
            "\n",
            "  [[1 3 2]\n",
            "   [4 2 0]\n",
            "   [1 0 2]]\n",
            "\n",
            "  [[3 2 0]\n",
            "   [2 0 0]\n",
            "   [0 2 2]]\n",
            "\n",
            "  [[2 0 0]\n",
            "   [0 0 4]\n",
            "   [2 2 0]]\n",
            "\n",
            "  [[0 0 4]\n",
            "   [0 4 4]\n",
            "   [2 0 1]]]\n",
            "\n",
            "\n",
            " [[[1 3 3]\n",
            "   [3 1 2]\n",
            "   [1 2 0]]\n",
            "\n",
            "  [[3 3 0]\n",
            "   [1 2 3]\n",
            "   [2 0 3]]\n",
            "\n",
            "  [[3 0 4]\n",
            "   [2 3 1]\n",
            "   [0 3 0]]\n",
            "\n",
            "  [[0 4 2]\n",
            "   [3 1 0]\n",
            "   [3 0 2]]\n",
            "\n",
            "  [[4 2 0]\n",
            "   [1 0 2]\n",
            "   [0 2 3]]\n",
            "\n",
            "  [[2 0 0]\n",
            "   [0 2 2]\n",
            "   [2 3 2]]\n",
            "\n",
            "  [[0 0 4]\n",
            "   [2 2 0]\n",
            "   [3 2 1]]\n",
            "\n",
            "  [[0 4 4]\n",
            "   [2 0 1]\n",
            "   [2 1 3]]]\n",
            "\n",
            "\n",
            " [[[3 1 2]\n",
            "   [1 2 0]\n",
            "   [0 0 4]]\n",
            "\n",
            "  [[1 2 3]\n",
            "   [2 0 3]\n",
            "   [0 4 3]]\n",
            "\n",
            "  [[2 3 1]\n",
            "   [0 3 0]\n",
            "   [4 3 3]]\n",
            "\n",
            "  [[3 1 0]\n",
            "   [3 0 2]\n",
            "   [3 3 4]]\n",
            "\n",
            "  [[1 0 2]\n",
            "   [0 2 3]\n",
            "   [3 4 4]]\n",
            "\n",
            "  [[0 2 2]\n",
            "   [2 3 2]\n",
            "   [4 4 1]]\n",
            "\n",
            "  [[2 2 0]\n",
            "   [3 2 1]\n",
            "   [4 1 4]]\n",
            "\n",
            "  [[2 0 1]\n",
            "   [2 1 3]\n",
            "   [1 4 0]]]\n",
            "\n",
            "\n",
            " [[[1 2 0]\n",
            "   [0 0 4]\n",
            "   [3 3 2]]\n",
            "\n",
            "  [[2 0 3]\n",
            "   [0 4 3]\n",
            "   [3 2 0]]\n",
            "\n",
            "  [[0 3 0]\n",
            "   [4 3 3]\n",
            "   [2 0 2]]\n",
            "\n",
            "  [[3 0 2]\n",
            "   [3 3 4]\n",
            "   [0 2 1]]\n",
            "\n",
            "  [[0 2 3]\n",
            "   [3 4 4]\n",
            "   [2 1 3]]\n",
            "\n",
            "  [[2 3 2]\n",
            "   [4 4 1]\n",
            "   [1 3 0]]\n",
            "\n",
            "  [[3 2 1]\n",
            "   [4 1 4]\n",
            "   [3 0 2]]\n",
            "\n",
            "  [[2 1 3]\n",
            "   [1 4 0]\n",
            "   [0 2 1]]]\n",
            "\n",
            "\n",
            " [[[0 0 4]\n",
            "   [3 3 2]\n",
            "   [0 3 3]]\n",
            "\n",
            "  [[0 4 3]\n",
            "   [3 2 0]\n",
            "   [3 3 4]]\n",
            "\n",
            "  [[4 3 3]\n",
            "   [2 0 2]\n",
            "   [3 4 0]]\n",
            "\n",
            "  [[3 3 4]\n",
            "   [0 2 1]\n",
            "   [4 0 2]]\n",
            "\n",
            "  [[3 4 4]\n",
            "   [2 1 3]\n",
            "   [0 2 1]]\n",
            "\n",
            "  [[4 4 1]\n",
            "   [1 3 0]\n",
            "   [2 1 0]]\n",
            "\n",
            "  [[4 1 4]\n",
            "   [3 0 2]\n",
            "   [1 0 0]]\n",
            "\n",
            "  [[1 4 0]\n",
            "   [0 2 1]\n",
            "   [0 0 1]]]\n",
            "\n",
            "\n",
            " [[[3 3 2]\n",
            "   [0 3 3]\n",
            "   [2 3 3]]\n",
            "\n",
            "  [[3 2 0]\n",
            "   [3 3 4]\n",
            "   [3 3 2]]\n",
            "\n",
            "  [[2 0 2]\n",
            "   [3 4 0]\n",
            "   [3 2 1]]\n",
            "\n",
            "  [[0 2 1]\n",
            "   [4 0 2]\n",
            "   [2 1 4]]\n",
            "\n",
            "  [[2 1 3]\n",
            "   [0 2 1]\n",
            "   [1 4 2]]\n",
            "\n",
            "  [[1 3 0]\n",
            "   [2 1 0]\n",
            "   [4 2 4]]\n",
            "\n",
            "  [[3 0 2]\n",
            "   [1 0 0]\n",
            "   [2 4 4]]\n",
            "\n",
            "  [[0 2 1]\n",
            "   [0 0 1]\n",
            "   [4 4 3]]]]\n"
          ]
        }
      ],
      "source": [
        "Z = np.random.randint(0,5,(10,10))\n",
        "n = 3\n",
        "i = 1 + (Z.shape[0]-3)\n",
        "j = 1 + (Z.shape[1]-3)\n",
        "C = stride_tricks.as_strided(Z, shape=(i, j, n, n), strides=Z.strides + Z.strides)\n",
        "print(C)"
      ]
    },
    {
      "cell_type": "markdown",
      "metadata": {
        "id": "zPcUFWVeLkD-"
      },
      "source": [
        "#### 85. Create a 2D array subclass such that Z\\[i,j\\] == Z\\[j,i\\] (★★★) \n",
        "(**hint**: class method)"
      ]
    },
    {
      "cell_type": "code",
      "execution_count": null,
      "metadata": {
        "id": "y5Qi06ONLkD-",
        "colab": {
          "base_uri": "https://localhost:8080/"
        },
        "outputId": "8fb4b3c9-f6d3-4191-bbf6-eaac767c22df"
      },
      "outputs": [
        {
          "output_type": "stream",
          "name": "stdout",
          "text": [
            "[[ 3  9  6  6  4]\n",
            " [ 9  9  4  9  7]\n",
            " [ 6  4  9 42  8]\n",
            " [ 6  9 42  3  3]\n",
            " [ 4  7  8  3  3]]\n"
          ]
        }
      ],
      "source": [
        "class Symetric(np.ndarray):\n",
        "    def __setitem__(self, index, value):\n",
        "        i,j = index\n",
        "        super(Symetric, self).__setitem__((i,j), value)\n",
        "        super(Symetric, self).__setitem__((j,i), value)\n",
        "\n",
        "def symetric(Z):\n",
        "    return np.asarray(Z + Z.T - np.diag(Z.diagonal())).view(Symetric)\n",
        "\n",
        "S = symetric(np.random.randint(0,10,(5,5)))\n",
        "S[2,3] = 42\n",
        "print(S)"
      ]
    },
    {
      "cell_type": "markdown",
      "metadata": {
        "id": "cSB1uJxOLkD_"
      },
      "source": [
        "#### 86. Consider a set of p matrices wich shape (n,n) and a set of p vectors with shape (n,1). How to compute the sum of of the p matrix products at once? (result has shape (n,1)) (★★★) \n",
        "(**hint**: np.tensordot)"
      ]
    },
    {
      "cell_type": "code",
      "execution_count": null,
      "metadata": {
        "id": "p5NX4oyuLkD_",
        "colab": {
          "base_uri": "https://localhost:8080/"
        },
        "outputId": "f6dca4be-2713-498b-91d2-a33a1ca25e34"
      },
      "outputs": [
        {
          "output_type": "stream",
          "name": "stdout",
          "text": [
            "[[200.]\n",
            " [200.]\n",
            " [200.]\n",
            " [200.]\n",
            " [200.]\n",
            " [200.]\n",
            " [200.]\n",
            " [200.]\n",
            " [200.]\n",
            " [200.]\n",
            " [200.]\n",
            " [200.]\n",
            " [200.]\n",
            " [200.]\n",
            " [200.]\n",
            " [200.]\n",
            " [200.]\n",
            " [200.]\n",
            " [200.]\n",
            " [200.]]\n"
          ]
        }
      ],
      "source": [
        "p, n = 10, 20\n",
        "M = np.ones((p,n,n))\n",
        "V = np.ones((p,n,1))\n",
        "S = np.tensordot(M, V, axes=[[0, 2], [0, 1]])\n",
        "print(S)"
      ]
    },
    {
      "cell_type": "markdown",
      "metadata": {
        "id": "1QkUNkOBLkD_"
      },
      "source": [
        "#### 87. Consider a 16x16 array, how to get the block-sum (block size is 4x4)? (★★★) \n",
        "(**hint**: np.add.reduceat)"
      ]
    },
    {
      "cell_type": "code",
      "execution_count": null,
      "metadata": {
        "id": "euphsHQoLkEA",
        "colab": {
          "base_uri": "https://localhost:8080/"
        },
        "outputId": "fa1230f6-48bf-4182-85ea-39643fbcc459"
      },
      "outputs": [
        {
          "output_type": "stream",
          "name": "stdout",
          "text": [
            "[[16. 16. 16. 16.]\n",
            " [16. 16. 16. 16.]\n",
            " [16. 16. 16. 16.]\n",
            " [16. 16. 16. 16.]]\n"
          ]
        }
      ],
      "source": [
        "\n",
        "Z = np.ones((16,16))\n",
        "k = 4\n",
        "S = np.add.reduceat(np.add.reduceat(Z, np.arange(0, Z.shape[0], k), axis=0),\n",
        "                                       np.arange(0, Z.shape[1], k), axis=1)\n",
        "print(S)"
      ]
    },
    {
      "cell_type": "markdown",
      "metadata": {
        "id": "YI3DXQA2LkEA"
      },
      "source": [
        "#### 88. How to implement the Game of Life using numpy arrays? (★★★)"
      ]
    },
    {
      "cell_type": "code",
      "execution_count": null,
      "metadata": {
        "id": "fMD5If4YLkEB",
        "colab": {
          "base_uri": "https://localhost:8080/"
        },
        "outputId": "d0b40978-afda-4e89-8ca5-30bff623cd54"
      },
      "outputs": [
        {
          "output_type": "stream",
          "name": "stdout",
          "text": [
            "[[0 0 0 0 0 0 0 0 0 0 0 0 0 0 0 0 0 0 0 0 0 0 0 0 0 0 0 0 0 0 0 0 0 0 0 0\n",
            "  0 0 0 0 0 0 0 0 0 0 0 0 0 0]\n",
            " [0 0 0 0 0 0 0 0 0 0 0 0 0 0 0 0 0 0 0 0 0 0 0 0 0 0 0 0 0 0 0 0 0 0 0 0\n",
            "  0 0 0 0 0 0 0 0 0 0 0 0 0 0]\n",
            " [0 0 0 0 0 0 0 0 0 0 0 0 0 0 0 0 0 0 0 0 0 0 0 0 0 0 0 0 0 0 0 0 0 0 0 0\n",
            "  0 0 0 0 0 0 0 0 0 0 0 1 1 0]\n",
            " [0 0 0 0 0 0 0 0 0 0 0 1 1 0 0 0 0 0 0 0 0 0 0 0 0 0 0 0 0 0 0 0 0 0 0 0\n",
            "  0 0 0 0 0 0 0 0 0 0 0 1 1 0]\n",
            " [0 0 0 0 0 0 0 0 0 0 1 0 0 1 0 0 0 0 0 0 0 0 0 0 0 0 0 0 0 0 0 0 0 0 0 0\n",
            "  0 0 0 0 0 0 0 0 0 0 0 0 0 0]\n",
            " [0 0 0 0 0 0 0 0 0 1 0 0 0 1 0 0 0 0 0 0 0 0 0 0 0 0 0 0 0 0 0 0 0 0 0 0\n",
            "  0 0 0 0 0 0 0 0 0 0 0 0 0 0]\n",
            " [0 0 0 0 0 0 0 0 0 0 0 0 0 1 0 0 0 0 0 0 0 0 0 0 0 0 0 0 0 0 0 0 0 0 0 0\n",
            "  0 0 0 0 0 0 0 0 0 0 0 0 0 0]\n",
            " [0 0 0 0 0 0 0 0 0 0 1 1 0 1 0 0 0 0 0 0 0 0 0 0 0 0 0 0 0 0 0 0 0 0 0 0\n",
            "  0 0 0 0 0 0 0 0 0 0 0 0 0 0]\n",
            " [0 0 0 0 0 0 0 0 0 0 0 1 1 1 0 0 0 0 0 0 0 0 0 0 0 0 0 0 0 0 0 0 0 0 0 0\n",
            "  0 0 0 0 0 0 0 0 0 0 0 0 0 0]\n",
            " [0 0 0 0 0 0 0 0 0 0 0 0 0 0 0 0 0 0 0 0 0 0 0 0 0 0 0 0 0 0 0 0 0 0 0 0\n",
            "  0 0 0 0 0 0 0 0 0 0 0 0 0 0]\n",
            " [0 0 0 0 0 0 0 0 0 0 0 1 1 1 0 0 0 1 1 1 0 0 0 0 0 0 0 0 0 0 0 0 0 0 0 0\n",
            "  0 0 0 0 0 0 0 0 0 0 0 0 0 0]\n",
            " [0 0 0 0 0 0 0 0 0 0 0 0 1 0 0 0 0 0 0 0 0 0 0 0 0 0 0 0 0 0 0 0 0 0 0 0\n",
            "  0 0 0 0 0 0 0 0 0 0 0 0 0 0]\n",
            " [0 0 0 0 0 1 1 0 0 0 0 0 0 0 0 0 0 0 0 0 0 0 0 0 0 0 0 0 0 0 0 0 0 0 0 0\n",
            "  0 0 0 0 0 0 0 0 0 0 0 0 0 0]\n",
            " [0 0 0 0 0 1 0 1 0 0 0 0 0 0 0 0 0 0 0 0 0 0 0 0 0 0 0 0 0 0 0 0 0 0 0 0\n",
            "  0 0 0 0 0 0 0 0 0 0 0 0 0 0]\n",
            " [0 0 0 0 0 0 0 1 1 0 0 0 0 0 0 0 0 0 0 0 0 0 0 0 0 0 0 0 0 0 0 0 0 0 0 0\n",
            "  0 0 0 0 0 0 0 0 0 0 0 0 0 0]\n",
            " [0 0 0 0 0 1 0 1 0 0 0 0 0 0 0 0 0 0 0 0 0 0 0 0 0 0 0 0 0 0 1 0 0 0 0 0\n",
            "  0 0 0 0 0 0 0 0 0 0 0 0 0 0]\n",
            " [0 0 0 0 0 1 1 0 0 0 0 0 0 0 0 0 0 0 1 0 0 0 0 0 0 0 0 0 0 1 0 1 1 1 0 0\n",
            "  0 0 0 0 0 0 0 0 0 0 0 0 0 0]\n",
            " [0 0 0 0 0 0 1 0 0 0 0 0 0 0 0 0 0 1 0 1 0 0 0 0 0 0 0 0 1 0 0 0 0 0 0 1\n",
            "  0 0 0 0 0 0 0 0 0 0 0 0 0 0]\n",
            " [0 0 0 0 0 0 0 0 0 0 0 0 0 0 0 0 1 0 0 1 0 0 0 0 0 0 0 0 0 1 1 1 1 0 0 0\n",
            "  1 0 0 0 0 0 0 0 0 0 0 0 0 0]\n",
            " [0 0 0 0 0 0 1 1 1 0 0 0 0 0 0 0 0 1 1 0 0 0 0 0 0 0 0 0 0 0 0 0 1 0 0 0\n",
            "  0 1 0 0 0 0 0 0 0 0 0 0 0 0]\n",
            " [0 0 0 0 0 0 1 0 1 0 0 0 0 0 0 0 0 0 0 0 0 0 0 0 0 0 0 0 0 0 0 0 0 1 0 0\n",
            "  0 0 1 0 0 0 0 0 0 0 0 0 0 0]\n",
            " [0 0 0 0 0 0 1 1 1 0 0 0 0 0 0 0 0 0 0 0 0 0 0 0 0 0 0 0 0 0 0 0 1 1 1 0\n",
            "  0 0 1 0 0 0 0 0 0 0 0 0 0 0]\n",
            " [0 0 0 0 0 0 0 0 0 0 0 0 0 0 0 0 0 0 0 0 0 0 0 0 0 0 0 0 0 0 0 0 1 0 0 0\n",
            "  1 0 0 1 0 0 0 0 0 0 0 0 0 0]\n",
            " [0 0 0 0 0 0 0 0 0 0 0 0 0 0 0 0 0 0 0 0 0 0 0 0 0 0 0 0 0 0 0 0 0 0 0 0\n",
            "  0 0 0 0 0 0 0 0 0 0 0 0 0 0]\n",
            " [0 0 0 0 0 0 0 0 0 0 0 0 0 0 0 0 1 1 0 0 0 0 0 0 0 0 1 0 0 0 0 0 0 0 0 0\n",
            "  0 1 0 1 0 0 0 0 0 0 0 0 0 0]\n",
            " [0 0 0 0 0 0 0 0 0 0 0 0 0 0 0 0 1 1 0 0 0 0 0 0 0 0 1 1 0 0 0 0 0 0 0 0\n",
            "  0 0 0 0 0 0 0 1 1 0 0 0 0 0]\n",
            " [0 0 0 0 0 0 0 0 0 0 0 0 0 0 0 0 0 0 0 0 0 0 0 0 0 0 0 0 0 0 0 0 0 0 0 0\n",
            "  0 0 0 0 0 0 0 1 1 0 0 0 0 0]\n",
            " [0 0 0 0 0 0 0 0 0 0 0 0 0 0 0 0 0 0 0 0 0 0 0 0 0 1 1 0 0 1 0 0 0 0 0 0\n",
            "  0 0 0 0 0 0 0 0 0 0 0 0 0 0]\n",
            " [0 0 0 0 0 0 0 0 0 0 0 0 0 0 0 0 0 0 0 0 0 0 0 0 0 1 1 0 0 0 1 0 0 0 0 0\n",
            "  0 0 0 0 0 0 0 0 0 0 0 0 0 0]\n",
            " [0 0 0 0 0 0 0 0 0 0 0 0 0 0 0 0 0 0 0 0 0 0 0 0 0 0 0 0 0 1 0 0 0 0 0 0\n",
            "  0 0 0 0 0 0 0 0 0 0 0 0 0 0]\n",
            " [0 0 0 0 0 0 0 0 0 0 0 0 0 0 0 0 0 0 0 0 0 0 0 0 0 0 0 1 1 1 0 0 0 0 0 0\n",
            "  0 0 0 1 0 0 0 0 1 0 0 0 0 0]\n",
            " [0 0 0 0 0 0 0 0 0 0 0 0 0 0 0 0 0 0 0 0 0 0 0 0 0 0 1 0 0 1 1 0 0 0 0 0\n",
            "  0 0 1 0 1 0 0 1 0 1 0 0 0 0]\n",
            " [0 0 0 0 0 0 0 0 0 0 0 0 0 0 0 0 0 0 0 0 0 0 0 0 0 1 1 1 0 0 0 0 0 0 0 0\n",
            "  0 1 0 0 1 0 0 1 0 1 0 0 0 0]\n",
            " [0 0 0 0 0 0 0 1 0 0 0 0 0 0 0 0 0 0 0 0 0 0 0 0 0 1 0 0 1 1 1 0 0 0 0 0\n",
            "  0 0 1 1 0 0 0 0 1 0 0 0 0 0]\n",
            " [0 0 1 0 0 1 1 0 1 0 0 0 0 0 0 0 0 0 0 0 0 0 0 0 1 1 1 0 0 1 0 0 0 0 0 0\n",
            "  0 0 0 0 0 0 0 0 0 0 0 0 0 0]\n",
            " [0 1 0 1 0 1 1 0 1 1 0 0 0 0 0 0 0 0 0 0 0 0 0 0 0 0 0 0 0 0 0 0 0 0 0 0\n",
            "  0 0 0 0 0 0 0 0 0 0 0 0 0 0]\n",
            " [0 0 1 1 0 0 0 1 1 1 0 0 0 0 0 0 0 0 0 0 0 0 0 0 0 0 0 1 1 1 0 0 1 1 0 0\n",
            "  0 0 0 0 0 0 0 0 0 0 0 0 0 0]\n",
            " [0 0 0 0 0 0 0 0 1 1 0 0 0 0 0 0 0 0 0 0 0 0 0 0 0 0 1 1 1 0 0 0 1 1 0 0\n",
            "  0 0 0 1 0 0 0 0 0 1 0 0 0 0]\n",
            " [0 0 0 0 0 0 0 1 0 0 0 0 0 0 0 0 0 0 0 0 0 0 0 0 0 0 1 0 0 0 0 0 0 0 0 0\n",
            "  0 0 0 1 0 0 0 0 0 1 0 0 0 0]\n",
            " [0 0 0 0 0 0 0 0 0 0 0 0 0 0 0 0 0 0 1 1 0 0 0 0 0 0 0 0 0 0 0 0 0 0 0 0\n",
            "  0 0 0 1 0 0 0 0 0 1 0 0 0 0]\n",
            " [0 0 0 0 0 0 0 0 0 0 0 0 0 0 0 0 0 0 1 1 0 0 0 0 0 0 0 0 0 0 0 1 0 0 0 0\n",
            "  0 0 0 0 0 0 0 0 0 0 0 0 0 0]\n",
            " [0 0 0 0 0 0 0 0 0 0 0 0 0 0 0 0 0 0 0 0 0 0 0 0 0 0 0 0 0 0 0 1 0 0 0 0\n",
            "  0 0 0 0 0 1 1 1 0 0 0 0 0 0]\n",
            " [0 0 0 0 0 0 0 0 0 0 0 0 0 0 0 0 0 0 0 0 0 0 0 0 0 0 0 0 0 0 1 0 1 0 0 0\n",
            "  0 0 0 0 0 0 0 0 0 0 0 0 0 0]\n",
            " [0 0 0 0 0 0 0 0 0 0 0 0 0 0 0 0 0 0 0 0 0 0 0 0 0 0 0 0 0 0 0 1 0 0 0 0\n",
            "  0 0 0 0 0 0 0 0 0 0 0 0 0 0]\n",
            " [0 0 0 0 0 0 0 0 0 0 0 0 0 0 1 1 0 0 0 0 0 0 0 0 0 0 0 0 0 0 0 1 0 0 0 0\n",
            "  1 0 0 0 0 0 0 0 0 0 0 0 0 0]\n",
            " [0 0 0 0 0 0 0 0 0 0 0 0 0 1 0 0 1 0 0 0 0 0 0 0 0 0 0 0 0 0 0 0 0 0 0 1\n",
            "  1 0 0 0 0 0 0 0 0 0 0 0 0 0]\n",
            " [0 0 0 0 0 0 0 0 0 0 0 0 0 0 1 1 0 0 0 0 0 0 0 0 0 1 1 0 0 0 0 0 0 1 0 1\n",
            "  0 0 0 0 0 0 0 0 0 0 0 0 0 0]\n",
            " [0 0 0 0 0 0 0 0 0 0 0 0 0 0 0 0 0 0 0 0 0 0 0 0 1 0 0 1 0 0 0 0 0 0 1 1\n",
            "  0 0 0 0 0 0 0 0 0 0 0 0 0 0]\n",
            " [0 0 0 0 0 0 0 0 0 0 0 0 0 0 0 0 0 0 0 0 0 0 0 0 1 1 1 0 0 0 0 0 0 0 0 0\n",
            "  0 0 0 0 0 0 0 0 0 0 0 0 0 0]\n",
            " [0 0 0 0 0 0 0 0 0 0 0 0 0 0 0 0 0 0 0 0 0 0 0 0 0 0 0 0 0 0 0 0 0 0 0 0\n",
            "  0 0 0 0 0 0 0 0 0 0 0 0 0 0]]\n"
          ]
        }
      ],
      "source": [
        "def iterate(Z):\n",
        "    # Count neighbours\n",
        "    N = (Z[0:-2,0:-2] + Z[0:-2,1:-1] + Z[0:-2,2:] +\n",
        "         Z[1:-1,0:-2]                + Z[1:-1,2:] +\n",
        "         Z[2:  ,0:-2] + Z[2:  ,1:-1] + Z[2:  ,2:])\n",
        "\n",
        "    # Apply rules\n",
        "    birth = (N==3) & (Z[1:-1,1:-1]==0)\n",
        "    survive = ((N==2) | (N==3)) & (Z[1:-1,1:-1]==1)\n",
        "    Z[...] = 0\n",
        "    Z[1:-1,1:-1][birth | survive] = 1\n",
        "    return Z\n",
        "\n",
        "Z = np.random.randint(0,2,(50,50))\n",
        "for i in range(100): Z = iterate(Z)\n",
        "print(Z)"
      ]
    },
    {
      "cell_type": "markdown",
      "metadata": {
        "id": "DAWbTDbMLkEB"
      },
      "source": [
        "#### 89. How to get the n largest values of an array (★★★) \n",
        "(**hint**: np.argsort | np.argpartition)"
      ]
    },
    {
      "cell_type": "code",
      "execution_count": null,
      "metadata": {
        "id": "UJ93Qm20LkEC",
        "colab": {
          "base_uri": "https://localhost:8080/"
        },
        "outputId": "c9d0df22-ef30-43fe-acdd-d0e53f935119"
      },
      "outputs": [
        {
          "output_type": "stream",
          "name": "stdout",
          "text": [
            "[9995 9996 9997 9998 9999]\n",
            "[9999 9997 9998 9996 9995]\n"
          ]
        }
      ],
      "source": [
        "Z = np.arange(10000)\n",
        "np.random.shuffle(Z)\n",
        "n = 5\n",
        "\n",
        "# Slow\n",
        "print (Z[np.argsort(Z)[-n:]])\n",
        "\n",
        "# Fast\n",
        "print (Z[np.argpartition(-Z,n)[:n]])"
      ]
    },
    {
      "cell_type": "markdown",
      "metadata": {
        "id": "y_BH_KzJLkED"
      },
      "source": [
        "#### 90. Given an arbitrary number of vectors, build the cartesian product (every combinations of every item) (★★★) \n",
        "(**hint**: np.indices)"
      ]
    },
    {
      "cell_type": "code",
      "execution_count": null,
      "metadata": {
        "scrolled": true,
        "id": "46c6xTV5LkED",
        "colab": {
          "base_uri": "https://localhost:8080/"
        },
        "outputId": "8add414f-e7a7-4ac7-b2ea-c91f23caef4f"
      },
      "outputs": [
        {
          "output_type": "stream",
          "name": "stdout",
          "text": [
            "[[1 4 6]\n",
            " [1 4 7]\n",
            " [1 5 6]\n",
            " [1 5 7]\n",
            " [2 4 6]\n",
            " [2 4 7]\n",
            " [2 5 6]\n",
            " [2 5 7]\n",
            " [3 4 6]\n",
            " [3 4 7]\n",
            " [3 5 6]\n",
            " [3 5 7]]\n"
          ]
        }
      ],
      "source": [
        "\n",
        "def cartesian(arrays):\n",
        "    arrays = [np.asarray(a) for a in arrays]\n",
        "    shape = (len(x) for x in arrays)\n",
        "\n",
        "    ix = np.indices(shape, dtype=int)\n",
        "    ix = ix.reshape(len(arrays), -1).T\n",
        "\n",
        "    for n, arr in enumerate(arrays):\n",
        "        ix[:, n] = arrays[n][ix[:, n]]\n",
        "\n",
        "    return ix\n",
        "\n",
        "print (cartesian(([1, 2, 3], [4, 5], [6, 7])))"
      ]
    },
    {
      "cell_type": "markdown",
      "metadata": {
        "id": "IbbCAW1sLkED"
      },
      "source": [
        "#### 91. How to create a record array from a regular array? (★★★) \n",
        "(**hint**: np.core.records.fromarrays)"
      ]
    },
    {
      "cell_type": "code",
      "execution_count": null,
      "metadata": {
        "id": "0xSlRNoxLkEE",
        "colab": {
          "base_uri": "https://localhost:8080/"
        },
        "outputId": "340cdebb-fc02-42cf-b9ab-b0b0e3ad6bcf"
      },
      "outputs": [
        {
          "output_type": "stream",
          "name": "stdout",
          "text": [
            "[(b'Hello', 2.5, 3) (b'World', 3.6, 2)]\n"
          ]
        }
      ],
      "source": [
        "\n",
        "Z = np.array([(\"Hello\", 2.5, 3),\n",
        "              (\"World\", 3.6, 2)])\n",
        "R = np.core.records.fromarrays(Z.T,\n",
        "                               names='col1, col2, col3',\n",
        "                               formats = 'S8, f8, i8')\n",
        "print(R)"
      ]
    },
    {
      "cell_type": "markdown",
      "metadata": {
        "id": "25iSY1B-LkEE"
      },
      "source": [
        "#### 92. Consider a large vector Z, compute Z to the power of 3 using 3 different methods (★★★) \n",
        "(**hint**: np.power, \\*, np.einsum)"
      ]
    },
    {
      "cell_type": "code",
      "execution_count": null,
      "metadata": {
        "id": "svxptDhyLkEE"
      },
      "outputs": [],
      "source": [
        "x = np.random.rand(int(5e7))\n",
        "print(np.power(x,3))\n",
        "print(x*x*x)\n",
        "print(np.einsum('i,i,i->i',x,x,x))"
      ]
    },
    {
      "cell_type": "markdown",
      "metadata": {
        "id": "1p1LgcWgLkEE"
      },
      "source": [
        "#### 93. Consider two arrays A and B of shape (8,3) and (2,2). How to find rows of A that contain elements of each row of B regardless of the order of the elements in B? (★★★) \n",
        "(**hint**: np.where)"
      ]
    },
    {
      "cell_type": "code",
      "execution_count": null,
      "metadata": {
        "id": "RW7_CyiNLkEF",
        "colab": {
          "base_uri": "https://localhost:8080/"
        },
        "outputId": "c77a035f-c53e-40d3-8423-31cfe008dfc4"
      },
      "outputs": [
        {
          "output_type": "stream",
          "name": "stdout",
          "text": [
            "[1 2 3 5 6 7]\n"
          ]
        }
      ],
      "source": [
        "A = np.random.randint(0,5,(8,3))\n",
        "B = np.random.randint(0,5,(2,2))\n",
        "\n",
        "C = (A[..., np.newaxis, np.newaxis] == B)\n",
        "rows = np.where(C.any((3,1)).all(1))[0]\n",
        "print(rows)"
      ]
    },
    {
      "cell_type": "markdown",
      "metadata": {
        "id": "ATUt4NseLkEF"
      },
      "source": [
        "#### 94. Considering a 10x3 matrix, extract rows with unequal values (e.g. \\[2,2,3\\]) (★★★)"
      ]
    },
    {
      "cell_type": "code",
      "execution_count": null,
      "metadata": {
        "id": "BzItHg53LkEF",
        "colab": {
          "base_uri": "https://localhost:8080/"
        },
        "outputId": "65958afd-4809-4249-9791-fb1a685434e4"
      },
      "outputs": [
        {
          "output_type": "stream",
          "name": "stdout",
          "text": [
            "[[3 4 4]\n",
            " [0 2 1]\n",
            " [0 2 2]\n",
            " [0 1 1]\n",
            " [3 2 4]\n",
            " [1 1 4]\n",
            " [1 4 4]\n",
            " [4 0 3]\n",
            " [3 4 0]\n",
            " [2 4 2]]\n",
            "[[3 4 4]\n",
            " [0 2 1]\n",
            " [0 2 2]\n",
            " [0 1 1]\n",
            " [3 2 4]\n",
            " [1 1 4]\n",
            " [1 4 4]\n",
            " [4 0 3]\n",
            " [3 4 0]\n",
            " [2 4 2]]\n",
            "[[3 4 4]\n",
            " [0 2 1]\n",
            " [0 2 2]\n",
            " [0 1 1]\n",
            " [3 2 4]\n",
            " [1 1 4]\n",
            " [1 4 4]\n",
            " [4 0 3]\n",
            " [3 4 0]\n",
            " [2 4 2]]\n"
          ]
        }
      ],
      "source": [
        "Z = np.random.randint(0,5,(10,3))\n",
        "print(Z)\n",
        "# solution for arrays of all dtypes (including string arrays and record arrays)\n",
        "E = np.all(Z[:,1:] == Z[:,:-1], axis=1)\n",
        "U = Z[~E]\n",
        "print(U)\n",
        "# soluiton for numerical arrays only, will work for any number of columns in Z\n",
        "U = Z[Z.max(axis=1) != Z.min(axis=1),:]\n",
        "print(U)"
      ]
    },
    {
      "cell_type": "markdown",
      "metadata": {
        "id": "B1YYO9nKLkEG"
      },
      "source": [
        "#### 95. Convert a vector of ints into a matrix binary representation (★★★) \n",
        "(**hint**: np.unpackbits)"
      ]
    },
    {
      "cell_type": "code",
      "execution_count": 124,
      "metadata": {
        "id": "EMATpXNULkEG",
        "colab": {
          "base_uri": "https://localhost:8080/"
        },
        "outputId": "60330870-dcc5-4855-bd2e-429fab5ff894"
      },
      "outputs": [
        {
          "output_type": "stream",
          "name": "stdout",
          "text": [
            "[[0 0 0 0 0 0 0 0]\n",
            " [0 0 0 0 0 0 0 1]\n",
            " [0 0 0 0 0 0 1 0]\n",
            " [0 0 0 0 0 0 1 1]\n",
            " [0 0 0 0 1 1 1 1]\n",
            " [0 0 0 1 0 0 0 0]\n",
            " [0 0 1 0 0 0 0 0]\n",
            " [0 1 0 0 0 0 0 0]\n",
            " [1 0 0 0 0 0 0 0]]\n"
          ]
        }
      ],
      "source": [
        "'''I = np.array([0, 1, 2, 3, 15, 16, 32, 64, 128])\n",
        "B = ((I.reshape(-1,1) & (2**np.arange(8))) != 0).astype(int)\n",
        "print(B[:,::-1])\n",
        "'''\n",
        "\n",
        "I = np.array([0, 1, 2, 3, 15, 16, 32, 64, 128], dtype=np.uint8)\n",
        "print(np.unpackbits(I[:, np.newaxis], axis=1))"
      ]
    },
    {
      "cell_type": "markdown",
      "metadata": {
        "id": "Zpt1_7fsLkEG"
      },
      "source": [
        "#### 96. Given a two dimensional array, how to extract unique rows? (★★★) \n",
        "(**hint**: np.ascontiguousarray)"
      ]
    },
    {
      "cell_type": "code",
      "execution_count": 125,
      "metadata": {
        "id": "v42eA60xLkEH",
        "colab": {
          "base_uri": "https://localhost:8080/"
        },
        "outputId": "d79c274b-b765-4acc-a26f-94e7965f9c4b"
      },
      "outputs": [
        {
          "output_type": "stream",
          "name": "stdout",
          "text": [
            "[[0 0 1]\n",
            " [0 1 0]\n",
            " [1 0 1]\n",
            " [1 1 1]]\n"
          ]
        }
      ],
      "source": [
        "\n",
        "Z = np.random.randint(0,2,(6,3))\n",
        "T = np.ascontiguousarray(Z).view(np.dtype((np.void, Z.dtype.itemsize * Z.shape[1])))\n",
        "_, idx = np.unique(T, return_index=True)\n",
        "uZ = Z[idx]\n",
        "print(uZ)"
      ]
    },
    {
      "cell_type": "markdown",
      "metadata": {
        "id": "6iu76B9lLkEH"
      },
      "source": [
        "#### 97. Considering 2 vectors A & B, write the einsum equivalent of inner, outer, sum, and mul function (★★★) \n",
        "(**hint**: np.einsum)"
      ]
    },
    {
      "cell_type": "code",
      "execution_count": 126,
      "metadata": {
        "id": "XNDHCZmyLkEH",
        "colab": {
          "base_uri": "https://localhost:8080/"
        },
        "outputId": "1b477438-cb67-44af-8453-ce9a531cfc55"
      },
      "outputs": [
        {
          "output_type": "execute_result",
          "data": {
            "text/plain": [
              "array([[4.78133315e-02, 1.36751607e-03, 2.54611738e-01, 2.58569935e-01,\n",
              "        2.46307007e-01, 1.42048765e-01, 2.73532673e-01, 2.97025670e-01,\n",
              "        2.49402109e-01, 2.63883542e-01],\n",
              "       [1.32680155e-01, 3.79480446e-03, 7.06537776e-01, 7.17521620e-01,\n",
              "        6.83492467e-01, 3.94179858e-01, 7.59042640e-01, 8.24234805e-01,\n",
              "        6.92081255e-01, 7.32266675e-01],\n",
              "       [4.16858685e-02, 1.19226360e-03, 2.21982261e-01, 2.25433200e-01,\n",
              "        2.14741814e-01, 1.23844668e-01, 2.38478405e-01, 2.58960684e-01,\n",
              "        2.17440266e-01, 2.30065848e-01],\n",
              "       [1.34921305e-01, 3.85890393e-03, 7.18472171e-01, 7.29641546e-01,\n",
              "        6.95037594e-01, 4.00838098e-01, 7.71863914e-01, 8.38157264e-01,\n",
              "        7.03771459e-01, 7.44635666e-01],\n",
              "       [1.38378046e-01, 3.95777066e-03, 7.36879729e-01, 7.48335269e-01,\n",
              "        7.12844749e-01, 4.11107738e-01, 7.91639391e-01, 8.59631205e-01,\n",
              "        7.21802379e-01, 7.63713544e-01],\n",
              "       [1.43535250e-02, 4.10527262e-04, 7.64342463e-02, 7.76224939e-02,\n",
              "        7.39411725e-02, 4.26429292e-02, 8.21142961e-02, 8.91668758e-02,\n",
              "        7.48703196e-02, 7.92176347e-02],\n",
              "       [8.22602273e-02, 2.35273676e-03, 4.38045600e-01, 4.44855461e-01,\n",
              "        4.23757763e-01, 2.44387148e-01, 4.70598034e-01, 5.11016455e-01,\n",
              "        4.29082716e-01, 4.53997232e-01],\n",
              "       [3.68023119e-02, 1.05258829e-03, 1.95976735e-01, 1.99023391e-01,\n",
              "        1.89584516e-01, 1.09336095e-01, 2.10540333e-01, 2.28623085e-01,\n",
              "        1.91966841e-01, 2.03113318e-01],\n",
              "       [1.62881878e-02, 4.65860835e-04, 8.67365584e-02, 8.80849658e-02,\n",
              "        8.39074516e-02, 4.83906246e-02, 9.31822027e-02, 1.01185376e-01,\n",
              "        8.49618353e-02, 8.98951102e-02],\n",
              "       [2.76151893e-02, 7.89826058e-04, 1.47054203e-01, 1.49340309e-01,\n",
              "        1.42257702e-01, 8.20420463e-02, 1.57982226e-01, 1.71550902e-01,\n",
              "        1.44045316e-01, 1.52409250e-01]])"
            ]
          },
          "metadata": {},
          "execution_count": 126
        }
      ],
      "source": [
        "A = np.random.uniform(0,1,10)\n",
        "B = np.random.uniform(0,1,10)\n",
        "\n",
        "np.einsum('i->', A)       # np.sum(A)\n",
        "np.einsum('i,i->i', A, B) # A * B\n",
        "np.einsum('i,i', A, B)    # np.inner(A, B)\n",
        "np.einsum('i,j->ij', A, B) "
      ]
    },
    {
      "cell_type": "markdown",
      "metadata": {
        "id": "3yWcCYrQLkEI"
      },
      "source": [
        "#### 98. Considering a path described by two vectors (X,Y), how to sample it using equidistant samples (★★★)? \n",
        "(**hint**: np.cumsum, np.interp)"
      ]
    },
    {
      "cell_type": "code",
      "execution_count": 127,
      "metadata": {
        "collapsed": true,
        "id": "OCTM4LJyLkEI"
      },
      "outputs": [],
      "source": [
        "phi = np.arange(0, 10*np.pi, 0.1)\n",
        "a = 1\n",
        "x = a*phi*np.cos(phi)\n",
        "y = a*phi*np.sin(phi)\n",
        "\n",
        "dr = (np.diff(x)**2 + np.diff(y)**2)**.5 # segment lengths\n",
        "r = np.zeros_like(x)\n",
        "r[1:] = np.cumsum(dr)                # integrate path\n",
        "r_int = np.linspace(0, r.max(), 200) # regular spaced path\n",
        "x_int = np.interp(r_int, r, x)       # integrate path\n",
        "y_int = np.interp(r_int, r, y)"
      ]
    },
    {
      "cell_type": "markdown",
      "metadata": {
        "id": "VvxlWXxsLkEI"
      },
      "source": [
        "#### 99. Given an integer n and a 2D array X, select from X the rows which can be interpreted as draws from a multinomial distribution with n degrees, i.e., the rows which only contain integers and which sum to n. (★★★) \n",
        "(**hint**: np.logical\\_and.reduce, np.mod)"
      ]
    },
    {
      "cell_type": "code",
      "execution_count": 128,
      "metadata": {
        "id": "Os_SPN9jLkEI",
        "colab": {
          "base_uri": "https://localhost:8080/"
        },
        "outputId": "7d0f62bd-90b4-44b3-af1e-6d8750cdafe7"
      },
      "outputs": [
        {
          "output_type": "stream",
          "name": "stdout",
          "text": [
            "[[2. 0. 1. 1.]]\n"
          ]
        }
      ],
      "source": [
        "X = np.asarray([[1.0, 0.0, 3.0, 8.0],\n",
        "                [2.0, 0.0, 1.0, 1.0],\n",
        "                [1.5, 2.5, 1.0, 0.0]])\n",
        "n = 4\n",
        "M = np.logical_and.reduce(np.mod(X, 1) == 0, axis=-1)\n",
        "M &= (X.sum(axis=-1) == n)\n",
        "print(X[M])"
      ]
    },
    {
      "cell_type": "markdown",
      "metadata": {
        "id": "_CXk1HFqLkEJ"
      },
      "source": [
        "#### 100. Compute bootstrapped 95% confidence intervals for the mean of a 1D array X (i.e., resample the elements of an array with replacement N times, compute the mean of each sample, and then compute percentiles over the means). (★★★) \n",
        "(**hint**: np.percentile)"
      ]
    },
    {
      "cell_type": "code",
      "execution_count": 129,
      "metadata": {
        "id": "R5CvEGMWLkEJ",
        "colab": {
          "base_uri": "https://localhost:8080/"
        },
        "outputId": "32293718-4cab-41ec-d6f7-5eeda8dbde75"
      },
      "outputs": [
        {
          "output_type": "stream",
          "name": "stdout",
          "text": [
            "[-0.10747201  0.27494141]\n"
          ]
        }
      ],
      "source": [
        "X = np.random.randn(100) # random 1D array\n",
        "N = 1000 # number of bootstrap samples\n",
        "idx = np.random.randint(0, X.size, (N, X.size))\n",
        "means = X[idx].mean(axis=1)\n",
        "confint = np.percentile(means, [2.5, 97.5])\n",
        "print(confint)"
      ]
    }
  ],
  "metadata": {
    "kernelspec": {
      "display_name": "Python 3",
      "language": "python",
      "name": "python3"
    },
    "language_info": {
      "codemirror_mode": {
        "name": "ipython",
        "version": 3
      },
      "file_extension": ".py",
      "mimetype": "text/x-python",
      "name": "python",
      "nbconvert_exporter": "python",
      "pygments_lexer": "ipython3",
      "version": "3.8.3"
    },
    "colab": {
      "provenance": [],
      "collapsed_sections": []
    }
  },
  "nbformat": 4,
  "nbformat_minor": 0
}